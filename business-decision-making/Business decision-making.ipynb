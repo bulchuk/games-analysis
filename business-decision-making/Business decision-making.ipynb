{
 "cells": [
  {
   "cell_type": "markdown",
   "metadata": {
    "toc": true
   },
   "source": [
    "<h1>Table of content<span class=\"tocSkip\"></span></h1>\n",
    "<div class=\"toc\"><ul class=\"toc-item\"><li><span><a href=\"#Data-loading-and-pre-processing\" data-toc-modified-id=\"Data-loading-and-pre-processing-1\"><span class=\"toc-item-num\">1&nbsp;&nbsp;</span>Data loading and pre-processing</a></span></li><li><span><a href=\"#Prioritization-of-hypotheses\" data-toc-modified-id=\"Prioritization-of-hypotheses-2\"><span class=\"toc-item-num\">2&nbsp;&nbsp;</span>Prioritization of hypotheses</a></span><ul class=\"toc-item\"><li><span><a href=\"#Using-the-ICE-framework\" data-toc-modified-id=\"Using-the-ICE-framework-2.1\"><span class=\"toc-item-num\">2.1&nbsp;&nbsp;</span>Using the ICE framework</a></span></li><li><span><a href=\"#Using-the-RICE-framework\" data-toc-modified-id=\"Using-the-RICE-framework-2.2\"><span class=\"toc-item-num\">2.2&nbsp;&nbsp;</span>Using the RICE framework</a></span></li></ul></li><li><span><a href=\"#A/B-test-analysis\" data-toc-modified-id=\"A/B-test-analysis-3\"><span class=\"toc-item-num\">3&nbsp;&nbsp;</span>A/B-test analysis</a></span><ul class=\"toc-item\"><li><span><a href=\"#Chart-of-cumulative-revenue-and-average-bill-by-groups\" data-toc-modified-id=\"Chart-of-cumulative-revenue-and-average-bill-by-groups-3.1\"><span class=\"toc-item-num\">3.1&nbsp;&nbsp;</span>Chart of cumulative revenue and average bill by groups</a></span></li><li><span><a href=\"#Chart-of-the-relative-change-in-the-cumulative-average-check-of-group-B-to-group-A\" data-toc-modified-id=\"Chart-of-the-relative-change-in-the-cumulative-average-check-of-group-B-to-group-A-3.2\"><span class=\"toc-item-num\">3.2&nbsp;&nbsp;</span>Chart of the relative change in the cumulative average check of group B to group A</a></span></li><li><span><a href=\"#Chart-of-the-cumulative-average-number-of-orders-per-visitor-by-group\" data-toc-modified-id=\"Chart-of-the-cumulative-average-number-of-orders-per-visitor-by-group-3.3\"><span class=\"toc-item-num\">3.3&nbsp;&nbsp;</span>Chart of the cumulative average number of orders per visitor by group</a></span></li><li><span><a href=\"#Chart-of-the-relative-change-in-the-cumulative-average-number-of-orders-per-visitor-of-group-B-to-group-A\" data-toc-modified-id=\"Chart-of-the-relative-change-in-the-cumulative-average-number-of-orders-per-visitor-of-group-B-to-group-A-3.4\"><span class=\"toc-item-num\">3.4&nbsp;&nbsp;</span>Chart of the relative change in the cumulative average number of orders per visitor of group B to group A</a></span></li><li><span><a href=\"#Scatter-plot-and-95th-and-99th-percentiles-of-orders-by-user\" data-toc-modified-id=\"Scatter-plot-and-95th-and-99th-percentiles-of-orders-by-user-3.5\"><span class=\"toc-item-num\">3.5&nbsp;&nbsp;</span>Scatter plot and 95th and 99th percentiles of orders by user</a></span></li><li><span><a href=\"#Scatter-plot-and-95th-and-99th-order-value-percentiles\" data-toc-modified-id=\"Scatter-plot-and-95th-and-99th-order-value-percentiles-3.6\"><span class=\"toc-item-num\">3.6&nbsp;&nbsp;</span>Scatter plot and 95th and 99th order value percentiles</a></span></li><li><span><a href=\"#Statistical-significance-of-differences-between-groups-on-raw-data\" data-toc-modified-id=\"Statistical-significance-of-differences-between-groups-on-raw-data-3.7\"><span class=\"toc-item-num\">3.7&nbsp;&nbsp;</span>Statistical significance of differences between groups on raw data</a></span></li><li><span><a href=\"#Statistical-significance-of-differences-between-groups-according-to-cleaned-data\" data-toc-modified-id=\"Statistical-significance-of-differences-between-groups-according-to-cleaned-data-3.8\"><span class=\"toc-item-num\">3.8&nbsp;&nbsp;</span>Statistical significance of differences between groups according to cleaned data</a></span></li></ul></li><li><span><a href=\"#Decision-making-and-general-conclusion\" data-toc-modified-id=\"Decision-making-and-general-conclusion-4\"><span class=\"toc-item-num\">4&nbsp;&nbsp;</span>Decision making and general conclusion</a></span></li></ul></div>"
   ]
  },
  {
   "cell_type": "markdown",
   "metadata": {},
   "source": [
    "# Business decision-making\n",
    "\n",
    "Testing hypotheses to increase the revenue of an online store."
   ]
  },
  {
   "cell_type": "markdown",
   "metadata": {},
   "source": [
    "<div style=\"border:solid green 2px; padding: 20px\">\n",
    "    \n",
    "**PROJECT PLAN**\n",
    "    \n",
    "**Our task** - prioritize hypotheses and analyze the results of the A/B test.\n",
    "    \n",
    "**Project implementation plan:**\n",
    "    \n",
    "    1. Download data and study general information. Data pre-processing.\n",
    "    \n",
    "    2. Prioritization of hypotheses:\n",
    "        \n",
    "        - using the ICE framework;\n",
    "    \n",
    "        - using the RICE framework;\n",
    "    \n",
    "        - analysis of changes in hypothesis prioritization using RICE instead of ICE.\n",
    "    \n",
    "    3. A/B test analysis:\n",
    "    \n",
    "        - create a chart of cumulative revenue and an average bill by groups;\n",
    "    \n",
    "        - create a chart of the relative change in the cumulative average check of group B to group A;\n",
    "    \n",
    "        - create a chart of the cumulative average number of orders per visitor by group;\n",
    "    \n",
    "        - create a chart of the relative change in the cumulative average number of orders per visitor of group B to group A;\n",
    "    \n",
    "        - calculation of the 95th and 99th percentiles of the number of orders per user and creation a scatter plot;\n",
    "    \n",
    "        - calculation of the 95th and 99th percentiles of the cost of orders and the creation of a scatter plot;\n",
    "    \n",
    "        - calculation of statistical significance of differences in the average number of orders per visitor and in the average order receipt between groups according to \"raw\" data;\n",
    "    \n",
    "        - calculation of statistical significance of differences in the average number of orders per visitor and in the average check of the order between groups according to \"cleaned\" data;\n",
    "    \n",
    "    4. Decision making based on test results. General conclusion."
   ]
  },
  {
   "cell_type": "markdown",
   "metadata": {},
   "source": [
    "## Data loading and pre-processing"
   ]
  },
  {
   "cell_type": "markdown",
   "metadata": {},
   "source": [
    "We will study the available data and perform pre-processing for further analysis."
   ]
  },
  {
   "cell_type": "code",
   "execution_count": 1,
   "metadata": {},
   "outputs": [],
   "source": [
    "# libraries import\n",
    "import pandas as pd\n",
    "import matplotlib.pyplot as plt\n",
    "import scipy.stats as stats\n",
    "import datetime as dt\n",
    "import numpy as np"
   ]
  },
  {
   "cell_type": "code",
   "execution_count": 2,
   "metadata": {},
   "outputs": [],
   "source": [
    "try:\n",
    "    hypothesis, orders, visitors = (\n",
    "        pd.read_csv('/Users/bulchuk/Documents/Data Analyst/Business decision-making/hypothesis.csv'), \n",
    "        # hypothesis data\n",
    "        pd.read_csv('/Users/bulchuk/Documents/Data Analyst/Business decision-making/orders.csv'), \n",
    "        # order history in A/B test\n",
    "        pd.read_csv('/Users/bulchuk/Documents/Data Analyst/Business decision-making/visitors.csv') \n",
    "        # user log in A/B test\n",
    "    )\n",
    "except OSError as error:\n",
    "    print(error)"
   ]
  },
  {
   "cell_type": "code",
   "execution_count": 3,
   "metadata": {},
   "outputs": [
    {
     "name": "stdout",
     "output_type": "stream",
     "text": [
      "<class 'pandas.core.frame.DataFrame'>\n",
      "RangeIndex: 9 entries, 0 to 8\n",
      "Data columns (total 5 columns):\n",
      " #   Column      Non-Null Count  Dtype \n",
      "---  ------      --------------  ----- \n",
      " 0   Hypothesis  9 non-null      object\n",
      " 1   Reach       9 non-null      int64 \n",
      " 2   Impact      9 non-null      int64 \n",
      " 3   Confidence  9 non-null      int64 \n",
      " 4   Efforts     9 non-null      int64 \n",
      "dtypes: int64(4), object(1)\n",
      "memory usage: 488.0+ bytes\n"
     ]
    },
    {
     "data": {
      "text/plain": [
       "None"
      ]
     },
     "metadata": {},
     "output_type": "display_data"
    },
    {
     "name": "stdout",
     "output_type": "stream",
     "text": [
      "<class 'pandas.core.frame.DataFrame'>\n",
      "RangeIndex: 1197 entries, 0 to 1196\n",
      "Data columns (total 5 columns):\n",
      " #   Column         Non-Null Count  Dtype \n",
      "---  ------         --------------  ----- \n",
      " 0   transactionId  1197 non-null   int64 \n",
      " 1   visitorId      1197 non-null   int64 \n",
      " 2   date           1197 non-null   object\n",
      " 3   revenue        1197 non-null   int64 \n",
      " 4   group          1197 non-null   object\n",
      "dtypes: int64(3), object(2)\n",
      "memory usage: 46.9+ KB\n"
     ]
    },
    {
     "data": {
      "text/plain": [
       "None"
      ]
     },
     "metadata": {},
     "output_type": "display_data"
    },
    {
     "name": "stdout",
     "output_type": "stream",
     "text": [
      "<class 'pandas.core.frame.DataFrame'>\n",
      "RangeIndex: 62 entries, 0 to 61\n",
      "Data columns (total 3 columns):\n",
      " #   Column    Non-Null Count  Dtype \n",
      "---  ------    --------------  ----- \n",
      " 0   date      62 non-null     object\n",
      " 1   group     62 non-null     object\n",
      " 2   visitors  62 non-null     int64 \n",
      "dtypes: int64(1), object(2)\n",
      "memory usage: 1.6+ KB\n"
     ]
    }
   ],
   "source": [
    "# display information about all dataframes\n",
    "display(hypothesis.info())\n",
    "display(orders.info())\n",
    "visitors.info()"
   ]
  },
  {
   "cell_type": "markdown",
   "metadata": {},
   "source": [
    "\n",
    "There are no gaps in the dataframes. Below we will display a table with hypotheses, as well as the first 5 lines of dataframes with data on orders and users.\n",
    "\n",
    "The `date` columns in the `orders` and `visitors` tables will be converted to the required format.\n",
    "\n",
    "The column names in the `hypothesis` table will be reduced to lower case."
   ]
  },
  {
   "cell_type": "code",
   "execution_count": 4,
   "metadata": {},
   "outputs": [
    {
     "data": {
      "text/html": [
       "<div>\n",
       "<style scoped>\n",
       "    .dataframe tbody tr th:only-of-type {\n",
       "        vertical-align: middle;\n",
       "    }\n",
       "\n",
       "    .dataframe tbody tr th {\n",
       "        vertical-align: top;\n",
       "    }\n",
       "\n",
       "    .dataframe thead th {\n",
       "        text-align: right;\n",
       "    }\n",
       "</style>\n",
       "<table border=\"1\" class=\"dataframe\">\n",
       "  <thead>\n",
       "    <tr style=\"text-align: right;\">\n",
       "      <th></th>\n",
       "      <th>Hypothesis</th>\n",
       "      <th>Reach</th>\n",
       "      <th>Impact</th>\n",
       "      <th>Confidence</th>\n",
       "      <th>Efforts</th>\n",
       "    </tr>\n",
       "  </thead>\n",
       "  <tbody>\n",
       "    <tr>\n",
       "      <th>0</th>\n",
       "      <td>Добавить два новых канала привлечения трафика,...</td>\n",
       "      <td>3</td>\n",
       "      <td>10</td>\n",
       "      <td>8</td>\n",
       "      <td>6</td>\n",
       "    </tr>\n",
       "    <tr>\n",
       "      <th>1</th>\n",
       "      <td>Запустить собственную службу доставки, что сок...</td>\n",
       "      <td>2</td>\n",
       "      <td>5</td>\n",
       "      <td>4</td>\n",
       "      <td>10</td>\n",
       "    </tr>\n",
       "    <tr>\n",
       "      <th>2</th>\n",
       "      <td>Добавить блоки рекомендаций товаров на сайт ин...</td>\n",
       "      <td>8</td>\n",
       "      <td>3</td>\n",
       "      <td>7</td>\n",
       "      <td>3</td>\n",
       "    </tr>\n",
       "    <tr>\n",
       "      <th>3</th>\n",
       "      <td>Изменить структура категорий, что увеличит кон...</td>\n",
       "      <td>8</td>\n",
       "      <td>3</td>\n",
       "      <td>3</td>\n",
       "      <td>8</td>\n",
       "    </tr>\n",
       "    <tr>\n",
       "      <th>4</th>\n",
       "      <td>Изменить цвет фона главной страницы, чтобы уве...</td>\n",
       "      <td>3</td>\n",
       "      <td>1</td>\n",
       "      <td>1</td>\n",
       "      <td>1</td>\n",
       "    </tr>\n",
       "    <tr>\n",
       "      <th>5</th>\n",
       "      <td>Добавить страницу отзывов клиентов о магазине,...</td>\n",
       "      <td>3</td>\n",
       "      <td>2</td>\n",
       "      <td>2</td>\n",
       "      <td>3</td>\n",
       "    </tr>\n",
       "    <tr>\n",
       "      <th>6</th>\n",
       "      <td>Показать на главной странице баннеры с актуаль...</td>\n",
       "      <td>5</td>\n",
       "      <td>3</td>\n",
       "      <td>8</td>\n",
       "      <td>3</td>\n",
       "    </tr>\n",
       "    <tr>\n",
       "      <th>7</th>\n",
       "      <td>Добавить форму подписки на все основные страни...</td>\n",
       "      <td>10</td>\n",
       "      <td>7</td>\n",
       "      <td>8</td>\n",
       "      <td>5</td>\n",
       "    </tr>\n",
       "    <tr>\n",
       "      <th>8</th>\n",
       "      <td>Запустить акцию, дающую скидку на товар в день...</td>\n",
       "      <td>1</td>\n",
       "      <td>9</td>\n",
       "      <td>9</td>\n",
       "      <td>5</td>\n",
       "    </tr>\n",
       "  </tbody>\n",
       "</table>\n",
       "</div>"
      ],
      "text/plain": [
       "                                          Hypothesis  Reach  Impact  \\\n",
       "0  Добавить два новых канала привлечения трафика,...      3      10   \n",
       "1  Запустить собственную службу доставки, что сок...      2       5   \n",
       "2  Добавить блоки рекомендаций товаров на сайт ин...      8       3   \n",
       "3  Изменить структура категорий, что увеличит кон...      8       3   \n",
       "4  Изменить цвет фона главной страницы, чтобы уве...      3       1   \n",
       "5  Добавить страницу отзывов клиентов о магазине,...      3       2   \n",
       "6  Показать на главной странице баннеры с актуаль...      5       3   \n",
       "7  Добавить форму подписки на все основные страни...     10       7   \n",
       "8  Запустить акцию, дающую скидку на товар в день...      1       9   \n",
       "\n",
       "   Confidence  Efforts  \n",
       "0           8        6  \n",
       "1           4       10  \n",
       "2           7        3  \n",
       "3           3        8  \n",
       "4           1        1  \n",
       "5           2        3  \n",
       "6           8        3  \n",
       "7           8        5  \n",
       "8           9        5  "
      ]
     },
     "metadata": {},
     "output_type": "display_data"
    },
    {
     "data": {
      "text/html": [
       "<div>\n",
       "<style scoped>\n",
       "    .dataframe tbody tr th:only-of-type {\n",
       "        vertical-align: middle;\n",
       "    }\n",
       "\n",
       "    .dataframe tbody tr th {\n",
       "        vertical-align: top;\n",
       "    }\n",
       "\n",
       "    .dataframe thead th {\n",
       "        text-align: right;\n",
       "    }\n",
       "</style>\n",
       "<table border=\"1\" class=\"dataframe\">\n",
       "  <thead>\n",
       "    <tr style=\"text-align: right;\">\n",
       "      <th></th>\n",
       "      <th>transactionId</th>\n",
       "      <th>visitorId</th>\n",
       "      <th>date</th>\n",
       "      <th>revenue</th>\n",
       "      <th>group</th>\n",
       "    </tr>\n",
       "  </thead>\n",
       "  <tbody>\n",
       "    <tr>\n",
       "      <th>0</th>\n",
       "      <td>3667963787</td>\n",
       "      <td>3312258926</td>\n",
       "      <td>2019-08-15</td>\n",
       "      <td>1650</td>\n",
       "      <td>B</td>\n",
       "    </tr>\n",
       "    <tr>\n",
       "      <th>1</th>\n",
       "      <td>2804400009</td>\n",
       "      <td>3642806036</td>\n",
       "      <td>2019-08-15</td>\n",
       "      <td>730</td>\n",
       "      <td>B</td>\n",
       "    </tr>\n",
       "    <tr>\n",
       "      <th>2</th>\n",
       "      <td>2961555356</td>\n",
       "      <td>4069496402</td>\n",
       "      <td>2019-08-15</td>\n",
       "      <td>400</td>\n",
       "      <td>A</td>\n",
       "    </tr>\n",
       "    <tr>\n",
       "      <th>3</th>\n",
       "      <td>3797467345</td>\n",
       "      <td>1196621759</td>\n",
       "      <td>2019-08-15</td>\n",
       "      <td>9759</td>\n",
       "      <td>B</td>\n",
       "    </tr>\n",
       "    <tr>\n",
       "      <th>4</th>\n",
       "      <td>2282983706</td>\n",
       "      <td>2322279887</td>\n",
       "      <td>2019-08-15</td>\n",
       "      <td>2308</td>\n",
       "      <td>B</td>\n",
       "    </tr>\n",
       "  </tbody>\n",
       "</table>\n",
       "</div>"
      ],
      "text/plain": [
       "   transactionId   visitorId        date  revenue group\n",
       "0     3667963787  3312258926  2019-08-15     1650     B\n",
       "1     2804400009  3642806036  2019-08-15      730     B\n",
       "2     2961555356  4069496402  2019-08-15      400     A\n",
       "3     3797467345  1196621759  2019-08-15     9759     B\n",
       "4     2282983706  2322279887  2019-08-15     2308     B"
      ]
     },
     "metadata": {},
     "output_type": "display_data"
    },
    {
     "data": {
      "text/html": [
       "<div>\n",
       "<style scoped>\n",
       "    .dataframe tbody tr th:only-of-type {\n",
       "        vertical-align: middle;\n",
       "    }\n",
       "\n",
       "    .dataframe tbody tr th {\n",
       "        vertical-align: top;\n",
       "    }\n",
       "\n",
       "    .dataframe thead th {\n",
       "        text-align: right;\n",
       "    }\n",
       "</style>\n",
       "<table border=\"1\" class=\"dataframe\">\n",
       "  <thead>\n",
       "    <tr style=\"text-align: right;\">\n",
       "      <th></th>\n",
       "      <th>date</th>\n",
       "      <th>group</th>\n",
       "      <th>visitors</th>\n",
       "    </tr>\n",
       "  </thead>\n",
       "  <tbody>\n",
       "    <tr>\n",
       "      <th>0</th>\n",
       "      <td>2019-08-01</td>\n",
       "      <td>A</td>\n",
       "      <td>719</td>\n",
       "    </tr>\n",
       "    <tr>\n",
       "      <th>1</th>\n",
       "      <td>2019-08-02</td>\n",
       "      <td>A</td>\n",
       "      <td>619</td>\n",
       "    </tr>\n",
       "    <tr>\n",
       "      <th>2</th>\n",
       "      <td>2019-08-03</td>\n",
       "      <td>A</td>\n",
       "      <td>507</td>\n",
       "    </tr>\n",
       "    <tr>\n",
       "      <th>3</th>\n",
       "      <td>2019-08-04</td>\n",
       "      <td>A</td>\n",
       "      <td>717</td>\n",
       "    </tr>\n",
       "    <tr>\n",
       "      <th>4</th>\n",
       "      <td>2019-08-05</td>\n",
       "      <td>A</td>\n",
       "      <td>756</td>\n",
       "    </tr>\n",
       "  </tbody>\n",
       "</table>\n",
       "</div>"
      ],
      "text/plain": [
       "         date group  visitors\n",
       "0  2019-08-01     A       719\n",
       "1  2019-08-02     A       619\n",
       "2  2019-08-03     A       507\n",
       "3  2019-08-04     A       717\n",
       "4  2019-08-05     A       756"
      ]
     },
     "execution_count": 4,
     "metadata": {},
     "output_type": "execute_result"
    }
   ],
   "source": [
    "# display dataframes \n",
    "display(hypothesis)\n",
    "display(orders.head())\n",
    "visitors.head()"
   ]
  },
  {
   "cell_type": "code",
   "execution_count": 5,
   "metadata": {},
   "outputs": [],
   "source": [
    "# let's bring the date column to the desired format\n",
    "orders['date'] = orders['date'].map(\n",
    "    lambda x: dt.datetime.strptime(x, '%Y-%m-%d')\n",
    ")\n",
    "visitors['date'] = visitors['date'].map(\n",
    "    lambda x: dt.datetime.strptime(x, '%Y-%m-%d')\n",
    ")\n",
    "# change the column names of the hypothesis table to lowercase\n",
    "hypothesis.columns = hypothesis.columns.str.lower()"
   ]
  },
  {
   "cell_type": "markdown",
   "metadata": {},
   "source": [
    "We have 3 (three) dataframes.\n",
    "\n",
    "Structure of `hypothesis.csv`:\n",
    "\n",
    "* \t\t`hypothesis` — brief description of the hypothesis;\n",
    "* \t\t`reach` — user coverage on a 10-point scale;\n",
    "* \t\t`impact` — impact on users on a 10-point scale;\n",
    "* \t\t`confidence` — confidence in the hypothesis on a 10-point scale;\n",
    "* \t\t`efforts` — resource costs for hypothesis testing on a 10-point scale. The larger the Efforts value, the more expensive the hypothesis test.\n",
    "\n",
    "Structure of `orders.csv`:\n",
    "\n",
    "* \t\t`transactionId` — order id;\n",
    "* \t\t`visitorId` — user id who placed an order;\n",
    "* \t\t`date` — order date;\n",
    "* \t\t`revenue` — order revenue;\n",
    "* \t\t`group` — order's A/B-test group.\n",
    "\n",
    "Structure of `visitors.csv`:\n",
    "\n",
    "* \t\t`date` — date of test;\n",
    "* \t\t`group` — group of A/B-test;\n",
    "* \t\t`visitors` — count of users on the specified date in the specified A/B test group.\n",
    "\n",
    "\n",
    "Next, we check the data for obvious duplicates and look at the unique values."
   ]
  },
  {
   "cell_type": "code",
   "execution_count": 6,
   "metadata": {},
   "outputs": [
    {
     "data": {
      "text/plain": [
       "1031"
      ]
     },
     "execution_count": 6,
     "metadata": {},
     "output_type": "execute_result"
    }
   ],
   "source": [
    "# check how many unique users are in the log with orders\n",
    "orders['visitorId'].nunique()"
   ]
  },
  {
   "cell_type": "code",
   "execution_count": 7,
   "metadata": {},
   "outputs": [
    {
     "data": {
      "text/plain": [
       "0"
      ]
     },
     "execution_count": 7,
     "metadata": {},
     "output_type": "execute_result"
    }
   ],
   "source": [
    "orders.duplicated().sum()"
   ]
  },
  {
   "cell_type": "code",
   "execution_count": 8,
   "metadata": {},
   "outputs": [
    {
     "data": {
      "text/plain": [
       "0"
      ]
     },
     "execution_count": 8,
     "metadata": {},
     "output_type": "execute_result"
    }
   ],
   "source": [
    "visitors.duplicated().sum()"
   ]
  },
  {
   "cell_type": "code",
   "execution_count": 9,
   "metadata": {},
   "outputs": [
    {
     "data": {
      "text/plain": [
       "array(['Добавить два новых канала привлечения трафика, что позволит привлекать на 30% больше пользователей',\n",
       "       'Запустить собственную службу доставки, что сократит срок доставки заказов',\n",
       "       'Добавить блоки рекомендаций товаров на сайт интернет магазина, чтобы повысить конверсию и средний чек заказа',\n",
       "       'Изменить структура категорий, что увеличит конверсию, т.к. пользователи быстрее найдут нужный товар',\n",
       "       'Изменить цвет фона главной страницы, чтобы увеличить вовлеченность пользователей',\n",
       "       'Добавить страницу отзывов клиентов о магазине, что позволит увеличить количество заказов',\n",
       "       'Показать на главной странице баннеры с актуальными акциями и распродажами, чтобы увеличить конверсию',\n",
       "       'Добавить форму подписки на все основные страницы, чтобы собрать базу клиентов для email-рассылок',\n",
       "       'Запустить акцию, дающую скидку на товар в день рождения'],\n",
       "      dtype=object)"
      ]
     },
     "execution_count": 9,
     "metadata": {},
     "output_type": "execute_result"
    }
   ],
   "source": [
    "hypothesis['hypothesis'].unique()"
   ]
  },
  {
   "cell_type": "markdown",
   "metadata": {},
   "source": [
    "<div style=\"border:solid green 2px; padding: 20px\">\n",
    "    \n",
    "We write down all the hypotheses that we will need to test:\n",
    "\n",
    "    1. Add two new traffic acquisition channels to attract 30% more users\n",
    "\n",
    "    2. Launch our own delivery service which will reduce the delivery time of orders\n",
    "    \n",
    "    3. Add product recommendation blocks to the online store website to increase conversion and average order value\n",
    "\n",
    "    4. Change the category structure which will increase the conversion, as users will find the right product faster\n",
    "\n",
    "    5. Change the homepage background color to increase user engagement\n",
    "    \n",
    "    6. Add a customer reviews page about the store which will increase the number of orders\n",
    "\n",
    "    7. Display banners with current promotions and sales on the main page to increase conversion\n",
    "\n",
    "    8. Add a subscription form to all main pages to build a customer base for email newsletters\n",
    "\n",
    "    9. Launch a birthday promotion\n"
   ]
  },
  {
   "cell_type": "code",
   "execution_count": 10,
   "metadata": {},
   "outputs": [
    {
     "data": {
      "text/plain": [
       "array([ 3,  2,  8,  5, 10,  1])"
      ]
     },
     "metadata": {},
     "output_type": "display_data"
    },
    {
     "data": {
      "text/plain": [
       "array([10,  5,  3,  1,  2,  7,  9])"
      ]
     },
     "metadata": {},
     "output_type": "display_data"
    },
    {
     "data": {
      "text/plain": [
       "array([8, 4, 7, 3, 1, 2, 9])"
      ]
     },
     "metadata": {},
     "output_type": "display_data"
    },
    {
     "data": {
      "text/plain": [
       "array([ 6, 10,  3,  8,  1,  5])"
      ]
     },
     "execution_count": 10,
     "metadata": {},
     "output_type": "execute_result"
    }
   ],
   "source": [
    "display(hypothesis['reach'].unique())\n",
    "display(hypothesis['impact'].unique())\n",
    "display(hypothesis['confidence'].unique())\n",
    "hypothesis['efforts'].unique()"
   ]
  },
  {
   "cell_type": "code",
   "execution_count": 11,
   "metadata": {},
   "outputs": [
    {
     "data": {
      "text/plain": [
       "array([   1650,     730,     400,    9759,    2308,    2210,    1860,\n",
       "          1044,   13710,    1855,    4008,    4499,    7370,   11985,\n",
       "         10980,   15277,    1060,     990,   16490,    1190,     300,\n",
       "          1050,     632,   15185,    7555,    3488,    7620,    5280,\n",
       "           700,     190,     383,    1680,   22785,    2355,    2470,\n",
       "          6250,   19260,     610,    2986,    1090,    9290,    2480,\n",
       "          3000,    2140,    3590,    6990,    1250,    2970,   18100,\n",
       "           100,    2750,     570,    2978,    1440,    7860,   56650,\n",
       "           790,    1350,    2540,    1710,    2350,   14610,    8999,\n",
       "         10510,   29499,     780,     890,    4400,   32350,   40740,\n",
       "          2490,    2080,    5400,    5100,    4020,     690,   12350,\n",
       "          1290,     382,    2110,    1490,   17868,    1940,   26550,\n",
       "          5970,     987,    9024,    5555,    7129,    3240,    2995,\n",
       "          2550,   17600,     850,    5365,    8390,    5870,    5020,\n",
       "         14489,    8470,    1630,    5800,     172,    6230,     760,\n",
       "          3390,    4480,    1139,   12336,    1450,    7990,    5099,\n",
       "          9400,    6441,    3070,    6145,   53904,    6922,    5190,\n",
       "          6976,    7690,     426,   28490,     390,     299,    6329,\n",
       "          8800,    2990,    9448,    2920,    9980,    1790,    4970,\n",
       "          3760,    8090,   11990,   18900,    6420,    1990,     650,\n",
       "           436,    1038,    1780,    3564,    3340,    5480,   38160,\n",
       "          2800,    3040,     995,    3210,     310,    2090,    3468,\n",
       "           778,    5740,    4580,    1840,    1550,   17990,     290,\n",
       "          6940,    1690,    5369,   11115,     165,    2646,    2220,\n",
       "          2190,    2845,    1799,    1498,    9850,    6700,     500,\n",
       "          2640,    4717,   30649,    5640,    2820,   17422,   14155,\n",
       "          4185,   10960,    1140,    1310,    1380,   10791,    9310,\n",
       "          3470,    2955,   15850,   27550,   15485,    6201,    2320,\n",
       "           599,     660,    6149,    2938,   10590,     110,   12810,\n",
       "          9880,     920,   15417,     950,    2339,    3190,    2360,\n",
       "         16950,   34340,    1620,   14271,    1920,     380,    8240,\n",
       "           282,   10970,     170,    1922,   14400,   19538,   10450,\n",
       "          2290,    1830,   33970,    1100,    4877,   12680,     860,\n",
       "          3354,    1000,    6890,    4299,   12562,     420,   23750,\n",
       "          6350,     490,   22040,    2950,    2342,    5622,    7485,\n",
       "          1200,    2057,      76,    1900,    2690,   20219,    4195,\n",
       "           830,    2330,    2526,    1435,    1460,     250,    6194,\n",
       "          3460,    5070,    8850,    1410,    1758,    1220,    8000,\n",
       "         15072,   41450,    1530,    1390,    4370,    6000,    2580,\n",
       "          5160,    6536,    5000,   14970,    9080,     910,   16770,\n",
       "          2500,    1590,    3990,   20026,   12470,    4980,   16680,\n",
       "         16480,    4780,    3450,    5415,   16279,    2385,     120,\n",
       "          1398,   20990,    5539,     270,   21220,    1253,   12550,\n",
       "           880,    9990,    3890,   19240,    3080,     460,      70,\n",
       "           870,   26980,   13990,   24744,    4500,    8870,     600,\n",
       "           440,     750,    1950,   37550,   31680,    9490,   11249,\n",
       "           470, 1294500,    2630,    4930,    3150,   17650,    5450,\n",
       "          5770,    1575,   20450,   11050,    2000,    2255,    1999,\n",
       "          7300,   18464,    6677,    2890,    6248,    5270,    4485,\n",
       "          7349,    3030,      50,    9232,    9934,    2840,    8990,\n",
       "          8780,    4410,     350,   19280,   13769,    6681,    6260,\n",
       "          1130,   11135,   20100,    2722,    8885,    8585,    1980,\n",
       "         10195,   30990,    2359,     320,    2590,    8250,     580,\n",
       "          5350,    3140,    1910,   17379,    4840,    6930,    5690,\n",
       "          6090,     740,   10440,    4880,    6590,   21550,   33405,\n",
       "          3525,   43990,   13390,     697,    4495,    8401,    6382,\n",
       "          2285,   10485,    6288,   11711,    3950,   25080,    1580,\n",
       "         35485,    9750,   27490,    1510,    1850,    4990,    3650,\n",
       "         33050,    5530,   27600,    1893,   31350,     360,    5249,\n",
       "          6716,    3559,    5790,     604,    3550,     240,    2235,\n",
       "         10550,    4690,   12888,    7995,    3220,     495,     265,\n",
       "          4790,     480,    1721,    2830,     340,    1870,    2670,\n",
       "          2420,    3261,    1634,   39800,   12990,   25890,   18990,\n",
       "          3826,   18010,   10250,   17030,    5119,    9870,   13860,\n",
       "          8877,    4620,   43690,    1846,      90,    4190,   34550,\n",
       "         10765,    7024,    4698,    2030,   78990,   10850,     550,\n",
       "         16990,     620,     654,    6613,   10160,    6400,    6440,\n",
       "         27390,    2050,     540,   42740,    9680,    5150,     410,\n",
       "          3680,    5227,     590,    5776,    2390,   14495,    2070,\n",
       "          2555,   19520,   11688,    4180,    1399,   45880,    3050,\n",
       "           295,   17792,   24381,    1805,   28350,    6170,    3270,\n",
       "          2960,    1020,   10137,   14490,   67990,   86620,    4900,\n",
       "         49495,    3170,   37150,   19660,   45780,   24860,    1737,\n",
       "          1040,    9690,    1149,    5490,    1640,     840,   12490,\n",
       "          4740,    3480,     785,    7890,    2600,    3739,     900,\n",
       "          3888,    1993,   13770,   20290,    2578,    5330,    5719,\n",
       "          2436,    5030,    4210,    2400,    8099,    1540,    6242,\n",
       "         18560,     150,    4600,   13740,    2790,   19990,     980,\n",
       "          1120,   15416,    3410,    5840,    4170,   10170,     985,\n",
       "         22950,    1180,    1188,    2674,    4710,   18270,     770,\n",
       "         93940,    7110,   12642,    4920,    3290,   35890,    4363,\n",
       "          6445,   58220,    3740,    3500,    1600,    1420,    1729,\n",
       "          3250,     450,   11440,    4188,     530,   13354,   17300,\n",
       "          2180,     160,    1960,     359,     510,   19386,      75,\n",
       "          1885,    4040,   25790,   13203,    2250,   34990,    3430,\n",
       "         19490,     720,      60,    7390,    3910,   58550,     800,\n",
       "          7240,   18350,   18463,    3330,    6660,    4283,   60450,\n",
       "         24350,    9050,    5170,   28750,   11250,    1730,    5900,\n",
       "          2348,    3600,    1320,    3806,    2907,     971,   14990,\n",
       "           640,    8290,    5430,     820,    4685,    2610,   14250,\n",
       "           130,   52900,    3490,    4390,    9800,   13070,   15500,\n",
       "          6674,    3404,   18557,    8439,    8340,   27985,    6645,\n",
       "          8640,    6060,    1720,   15450,    1800,    8950,    8280,\n",
       "          1825,    5688,    4240,    2061,   12150,    1280,    8777,\n",
       "          9300,    8590,    6015,    1170,    4650,   39500,    6585,\n",
       "          5050,   14000,   32610,   16920,   65710,     725,    6438,\n",
       "         66350,    3320,   11490,    7500,    7550,   11565,    2752,\n",
       "         28060,    1707,    6780,    5390,    3260,   17940,   24990,\n",
       "          3980,    8529,    5440,    2510,   18893,   92550,   52480,\n",
       "          4140,    3520,    3180,    4120,     370,    6385,    9368,\n",
       "          3780,    1329,    3020,    6180,   25250,    4940,   10380,\n",
       "         15380,     112,   31550,    8600,    6490,  202740])"
      ]
     },
     "metadata": {},
     "output_type": "display_data"
    },
    {
     "data": {
      "text/plain": [
       "array(['B', 'A'], dtype=object)"
      ]
     },
     "execution_count": 11,
     "metadata": {},
     "output_type": "execute_result"
    }
   ],
   "source": [
    "display(orders['revenue'].unique())\n",
    "orders['group'].unique()"
   ]
  },
  {
   "cell_type": "code",
   "execution_count": 12,
   "metadata": {},
   "outputs": [
    {
     "data": {
      "text/plain": [
       "array([719, 619, 507, 717, 756, 667, 644, 610, 617, 406, 718, 595, 748,\n",
       "       735, 628, 361, 412, 668, 502, 575, 646, 609, 468, 395, 621, 722,\n",
       "       711, 594, 577, 490, 699, 713, 581, 509, 770, 707, 655, 709, 654,\n",
       "       369, 721, 543, 769, 746, 544, 413, 421, 737, 487, 560, 656, 650,\n",
       "       546, 378, 679, 676, 720, 531])"
      ]
     },
     "metadata": {},
     "output_type": "display_data"
    },
    {
     "data": {
      "text/plain": [
       "array(['A', 'B'], dtype=object)"
      ]
     },
     "execution_count": 12,
     "metadata": {},
     "output_type": "execute_result"
    }
   ],
   "source": [
    "display(visitors['visitors'].unique())\n",
    "visitors['group'].unique()"
   ]
  },
  {
   "cell_type": "code",
   "execution_count": 13,
   "metadata": {},
   "outputs": [
    {
     "data": {
      "text/plain": [
       "Timestamp('2019-08-01 00:00:00')"
      ]
     },
     "metadata": {},
     "output_type": "display_data"
    },
    {
     "data": {
      "text/plain": [
       "Timestamp('2019-08-31 00:00:00')"
      ]
     },
     "metadata": {},
     "output_type": "display_data"
    },
    {
     "data": {
      "text/plain": [
       "Timestamp('2019-08-01 00:00:00')"
      ]
     },
     "metadata": {},
     "output_type": "display_data"
    },
    {
     "data": {
      "text/plain": [
       "Timestamp('2019-08-31 00:00:00')"
      ]
     },
     "execution_count": 13,
     "metadata": {},
     "output_type": "execute_result"
    }
   ],
   "source": [
    "display(orders['date'].min())\n",
    "display(orders['date'].max())\n",
    "display(visitors['date'].min())\n",
    "visitors['date'].max()"
   ]
  },
  {
   "cell_type": "code",
   "execution_count": 14,
   "metadata": {},
   "outputs": [
    {
     "data": {
      "text/plain": [
       "group\n",
       "A    503\n",
       "B    586\n",
       "Name: visitorId, dtype: int64"
      ]
     },
     "execution_count": 14,
     "metadata": {},
     "output_type": "execute_result"
    }
   ],
   "source": [
    "# consider the count of users in each group\n",
    "visitors_per_group = orders.groupby('group')['visitorId'].nunique()\n",
    "visitors_per_group"
   ]
  },
  {
   "cell_type": "code",
   "execution_count": 15,
   "metadata": {},
   "outputs": [
    {
     "data": {
      "text/plain": [
       "group    58\n",
       "dtype: int64"
      ]
     },
     "execution_count": 15,
     "metadata": {},
     "output_type": "execute_result"
    }
   ],
   "source": [
    "# check if some users fall into both groups\n",
    "double_visitors_total = orders.groupby('visitorId').agg({'group' : 'nunique'}).query('group>1').count()\n",
    "double_visitors_total"
   ]
  },
  {
   "cell_type": "code",
   "execution_count": 16,
   "metadata": {},
   "outputs": [],
   "source": [
    "# we found 58 users who fell into both testing groups. Let's create a list of these users:\n",
    "double_visitors = (orders.groupby('visitorId').agg({'group' : 'nunique'})\n",
    "                   .reset_index().query('group>1')['visitorId'].unique()\n",
    "                  )"
   ]
  },
  {
   "cell_type": "code",
   "execution_count": 17,
   "metadata": {},
   "outputs": [],
   "source": [
    "# and leave in the table only unique users that are either in group A or in group B\n",
    "orders = orders.query('visitorId not in @double_visitors')"
   ]
  },
  {
   "cell_type": "code",
   "execution_count": 18,
   "metadata": {},
   "outputs": [
    {
     "data": {
      "image/png": "[encoded data removed]",
      "text/plain": [
       "<Figure size 1200x500 with 1 Axes>"
      ]
     },
     "metadata": {},
     "output_type": "display_data"
    }
   ],
   "source": [
    "(\n",
    "    visitors.pivot_table(index='date', columns='group', values='visitors', aggfunc='sum')\n",
    "    .plot(grid=True, figsize=(12, 5), kind='line', title='The number of users by days without accumulation', \n",
    "          linewidth=3, alpha=0.7)\n",
    ")\n",
    "plt.xlabel('Date')\n",
    "plt.show()"
   ]
  },
  {
   "cell_type": "code",
   "execution_count": 19,
   "metadata": {},
   "outputs": [
    {
     "data": {
      "text/html": [
       "<div>\n",
       "<style scoped>\n",
       "    .dataframe tbody tr th:only-of-type {\n",
       "        vertical-align: middle;\n",
       "    }\n",
       "\n",
       "    .dataframe tbody tr th {\n",
       "        vertical-align: top;\n",
       "    }\n",
       "\n",
       "    .dataframe thead th {\n",
       "        text-align: right;\n",
       "    }\n",
       "</style>\n",
       "<table border=\"1\" class=\"dataframe\">\n",
       "  <thead>\n",
       "    <tr style=\"text-align: right;\">\n",
       "      <th></th>\n",
       "      <th>date</th>\n",
       "      <th>group</th>\n",
       "      <th>visitors</th>\n",
       "    </tr>\n",
       "  </thead>\n",
       "  <tbody>\n",
       "    <tr>\n",
       "      <th>55</th>\n",
       "      <td>2019-08-01</td>\n",
       "      <td>A</td>\n",
       "      <td>719</td>\n",
       "    </tr>\n",
       "    <tr>\n",
       "      <th>66</th>\n",
       "      <td>2019-08-01</td>\n",
       "      <td>B</td>\n",
       "      <td>713</td>\n",
       "    </tr>\n",
       "    <tr>\n",
       "      <th>175</th>\n",
       "      <td>2019-08-02</td>\n",
       "      <td>A</td>\n",
       "      <td>1338</td>\n",
       "    </tr>\n",
       "    <tr>\n",
       "      <th>173</th>\n",
       "      <td>2019-08-02</td>\n",
       "      <td>B</td>\n",
       "      <td>1294</td>\n",
       "    </tr>\n",
       "    <tr>\n",
       "      <th>291</th>\n",
       "      <td>2019-08-03</td>\n",
       "      <td>A</td>\n",
       "      <td>1845</td>\n",
       "    </tr>\n",
       "    <tr>\n",
       "      <th>383</th>\n",
       "      <td>2019-08-03</td>\n",
       "      <td>B</td>\n",
       "      <td>1803</td>\n",
       "    </tr>\n",
       "  </tbody>\n",
       "</table>\n",
       "</div>"
      ],
      "text/plain": [
       "          date group  visitors\n",
       "55  2019-08-01     A       719\n",
       "66  2019-08-01     B       713\n",
       "175 2019-08-02     A      1338\n",
       "173 2019-08-02     B      1294\n",
       "291 2019-08-03     A      1845\n",
       "383 2019-08-03     B      1803"
      ]
     },
     "execution_count": 19,
     "metadata": {},
     "output_type": "execute_result"
    }
   ],
   "source": [
    "# create an array of unique pairs of date values and test groups\n",
    "datesGroups = orders[['date','group']].drop_duplicates()\n",
    "\n",
    "# aggregate data by the number of users per day by groups\n",
    "visitorsAggregated = (datesGroups\n",
    "                     .apply(lambda x:\n",
    "                           visitors[np.logical_and(visitors['date']<=x['date'], visitors['group']==x['group'])]\\\n",
    "                           .agg({'date': 'max',\n",
    "                                'group': 'max',\n",
    "                                'visitors':'sum'}),\n",
    "                           axis=1)\n",
    "                     .sort_values(by=['date', 'group'])\n",
    "                     )\n",
    "visitorsAggregated.head(6)"
   ]
  },
  {
   "cell_type": "code",
   "execution_count": 20,
   "metadata": {},
   "outputs": [
    {
     "data": {
      "image/png": "[encoded data removed]",
      "text/plain": [
       "<Figure size 1200x500 with 1 Axes>"
      ]
     },
     "metadata": {},
     "output_type": "display_data"
    }
   ],
   "source": [
    "visitorsA = visitorsAggregated[visitorsAggregated['group']=='A'][['date','group', 'visitors']]\n",
    "visitorsB = visitorsAggregated[visitorsAggregated['group']=='B'][['date','group', 'visitors']]\n",
    "\n",
    "plt.figure(figsize=(12, 5))\n",
    "\n",
    "# create a chart by the number of users of group A\n",
    "plt.plot(visitorsA['date'], visitorsA['visitors'], label='A')\n",
    "# create a chart by the number of users of group B\n",
    "plt.plot(visitorsB['date'], visitorsB['visitors'], label='B')\n",
    "\n",
    "plt.legend()\n",
    "plt.xlabel('Date')\n",
    "plt.title('User dynamics by days and groups')\n",
    "plt.show()"
   ]
  },
  {
   "cell_type": "markdown",
   "metadata": {},
   "source": [
    "<div style=\"border:solid green 2px; padding: 20px\">\n",
    "    \n",
    "As a result of the first step, we performed data pre-processing:\n",
    "    \n",
    "    - there are no gaps in any table, and there are no negative values in the columns with revenue and the number of users;\n",
    "    \n",
    "    - column names have been changed to a common format;\n",
    "    \n",
    "    - no duplicates found in data;\n",
    "    \n",
    "    - all the hypotheses that we need to test separately are wrote down;\n",
    "    \n",
    "    - hypotheses scores from 1 to 10 on a 10-point scale, no abnormal values;\n",
    "    \n",
    "    - among the names of the test groups, only A and B, there are no other values, everything is in order;\n",
    "    \n",
    "    - the minimum and maximum dates in the `orders.csv` and `visitors.csv` dataframes are the same. The test was conducted from 1 to 31 August 2019;\n",
    "    \n",
    "    - 58 users were found who were in both testing groups. We removed them from the data;\n",
    "    \n",
    "    - also we looked at the dynamics of users by groups: there is a uniform and stable increase in the number of users in each group.\n",
    "    \n",
    "    \n",
    "We can proceed to further analysis."
   ]
  },
  {
   "cell_type": "markdown",
   "metadata": {},
   "source": [
    "## Prioritization of hypotheses"
   ]
  },
  {
   "cell_type": "markdown",
   "metadata": {},
   "source": [
    "### Using the ICE framework"
   ]
  },
  {
   "cell_type": "markdown",
   "metadata": {},
   "source": [
    "Let's examine the file with hypotheses and parameter estimates `ICE`.\n",
    "\n",
    "We will calculate `ICE` for hypotheses and add the obtained `ICE` values to the existing table."
   ]
  },
  {
   "cell_type": "code",
   "execution_count": 21,
   "metadata": {},
   "outputs": [
    {
     "data": {
      "text/html": [
       "<div>\n",
       "<style scoped>\n",
       "    .dataframe tbody tr th:only-of-type {\n",
       "        vertical-align: middle;\n",
       "    }\n",
       "\n",
       "    .dataframe tbody tr th {\n",
       "        vertical-align: top;\n",
       "    }\n",
       "\n",
       "    .dataframe thead th {\n",
       "        text-align: right;\n",
       "    }\n",
       "</style>\n",
       "<table border=\"1\" class=\"dataframe\">\n",
       "  <thead>\n",
       "    <tr style=\"text-align: right;\">\n",
       "      <th></th>\n",
       "      <th>hypothesis</th>\n",
       "      <th>reach</th>\n",
       "      <th>impact</th>\n",
       "      <th>confidence</th>\n",
       "      <th>efforts</th>\n",
       "      <th>ICE</th>\n",
       "    </tr>\n",
       "  </thead>\n",
       "  <tbody>\n",
       "    <tr>\n",
       "      <th>8</th>\n",
       "      <td>Запустить акцию, дающую скидку на товар в день рождения</td>\n",
       "      <td>1</td>\n",
       "      <td>9</td>\n",
       "      <td>9</td>\n",
       "      <td>5</td>\n",
       "      <td>16.200000</td>\n",
       "    </tr>\n",
       "    <tr>\n",
       "      <th>0</th>\n",
       "      <td>Добавить два новых канала привлечения трафика, что позволит привлекать на 30% больше пользователей</td>\n",
       "      <td>3</td>\n",
       "      <td>10</td>\n",
       "      <td>8</td>\n",
       "      <td>6</td>\n",
       "      <td>13.333333</td>\n",
       "    </tr>\n",
       "    <tr>\n",
       "      <th>7</th>\n",
       "      <td>Добавить форму подписки на все основные страницы, чтобы собрать базу клиентов для email-рассылок</td>\n",
       "      <td>10</td>\n",
       "      <td>7</td>\n",
       "      <td>8</td>\n",
       "      <td>5</td>\n",
       "      <td>11.200000</td>\n",
       "    </tr>\n",
       "    <tr>\n",
       "      <th>6</th>\n",
       "      <td>Показать на главной странице баннеры с актуальными акциями и распродажами, чтобы увеличить конверсию</td>\n",
       "      <td>5</td>\n",
       "      <td>3</td>\n",
       "      <td>8</td>\n",
       "      <td>3</td>\n",
       "      <td>8.000000</td>\n",
       "    </tr>\n",
       "    <tr>\n",
       "      <th>2</th>\n",
       "      <td>Добавить блоки рекомендаций товаров на сайт интернет магазина, чтобы повысить конверсию и средний чек заказа</td>\n",
       "      <td>8</td>\n",
       "      <td>3</td>\n",
       "      <td>7</td>\n",
       "      <td>3</td>\n",
       "      <td>7.000000</td>\n",
       "    </tr>\n",
       "    <tr>\n",
       "      <th>1</th>\n",
       "      <td>Запустить собственную службу доставки, что сократит срок доставки заказов</td>\n",
       "      <td>2</td>\n",
       "      <td>5</td>\n",
       "      <td>4</td>\n",
       "      <td>10</td>\n",
       "      <td>2.000000</td>\n",
       "    </tr>\n",
       "    <tr>\n",
       "      <th>5</th>\n",
       "      <td>Добавить страницу отзывов клиентов о магазине, что позволит увеличить количество заказов</td>\n",
       "      <td>3</td>\n",
       "      <td>2</td>\n",
       "      <td>2</td>\n",
       "      <td>3</td>\n",
       "      <td>1.333333</td>\n",
       "    </tr>\n",
       "    <tr>\n",
       "      <th>3</th>\n",
       "      <td>Изменить структура категорий, что увеличит конверсию, т.к. пользователи быстрее найдут нужный товар</td>\n",
       "      <td>8</td>\n",
       "      <td>3</td>\n",
       "      <td>3</td>\n",
       "      <td>8</td>\n",
       "      <td>1.125000</td>\n",
       "    </tr>\n",
       "    <tr>\n",
       "      <th>4</th>\n",
       "      <td>Изменить цвет фона главной страницы, чтобы увеличить вовлеченность пользователей</td>\n",
       "      <td>3</td>\n",
       "      <td>1</td>\n",
       "      <td>1</td>\n",
       "      <td>1</td>\n",
       "      <td>1.000000</td>\n",
       "    </tr>\n",
       "  </tbody>\n",
       "</table>\n",
       "</div>"
      ],
      "text/plain": [
       "                                                                                                     hypothesis  \\\n",
       "8                                                       Запустить акцию, дающую скидку на товар в день рождения   \n",
       "0            Добавить два новых канала привлечения трафика, что позволит привлекать на 30% больше пользователей   \n",
       "7              Добавить форму подписки на все основные страницы, чтобы собрать базу клиентов для email-рассылок   \n",
       "6          Показать на главной странице баннеры с актуальными акциями и распродажами, чтобы увеличить конверсию   \n",
       "2  Добавить блоки рекомендаций товаров на сайт интернет магазина, чтобы повысить конверсию и средний чек заказа   \n",
       "1                                     Запустить собственную службу доставки, что сократит срок доставки заказов   \n",
       "5                      Добавить страницу отзывов клиентов о магазине, что позволит увеличить количество заказов   \n",
       "3           Изменить структура категорий, что увеличит конверсию, т.к. пользователи быстрее найдут нужный товар   \n",
       "4                              Изменить цвет фона главной страницы, чтобы увеличить вовлеченность пользователей   \n",
       "\n",
       "   reach  impact  confidence  efforts        ICE  \n",
       "8      1       9           9        5  16.200000  \n",
       "0      3      10           8        6  13.333333  \n",
       "7     10       7           8        5  11.200000  \n",
       "6      5       3           8        3   8.000000  \n",
       "2      8       3           7        3   7.000000  \n",
       "1      2       5           4       10   2.000000  \n",
       "5      3       2           2        3   1.333333  \n",
       "3      8       3           3        8   1.125000  \n",
       "4      3       1           1        1   1.000000  "
      ]
     },
     "execution_count": 21,
     "metadata": {},
     "output_type": "execute_result"
    }
   ],
   "source": [
    "pd.options.display.max_colwidth = 130\n",
    "\n",
    "hypothesis['ICE'] = (hypothesis['impact']*hypothesis['confidence'])/hypothesis['efforts']\n",
    "hypothesis.sort_values(by='ICE', ascending=False)"
   ]
  },
  {
   "cell_type": "markdown",
   "metadata": {},
   "source": [
    "In the case of the `ICE` framework, high levels of influence and confidence in the degree of influence, as well as a low level of effort to be applied, are important.\n",
    "\n",
    "The leading hypotheses are:\n",
    "\n",
    "    1. launch a birthday promotion;\n",
    "\n",
    "    2. add two new traffic acquisition channels to attract 30% more users;\n",
    "\n",
    "    3. add a subscription form to all main pages to build a customer base for email newsletters.\n"
   ]
  },
  {
   "cell_type": "markdown",
   "metadata": {},
   "source": [
    "### Using the RICE framework"
   ]
  },
  {
   "cell_type": "markdown",
   "metadata": {},
   "source": [
    "Let's calculate `RICE` for hypotheses. We will add the obtained `RICE` values to the existing table. Sorting in this case will go on a new column with a score of `RICE`."
   ]
  },
  {
   "cell_type": "code",
   "execution_count": 22,
   "metadata": {},
   "outputs": [
    {
     "data": {
      "text/html": [
       "<div>\n",
       "<style scoped>\n",
       "    .dataframe tbody tr th:only-of-type {\n",
       "        vertical-align: middle;\n",
       "    }\n",
       "\n",
       "    .dataframe tbody tr th {\n",
       "        vertical-align: top;\n",
       "    }\n",
       "\n",
       "    .dataframe thead th {\n",
       "        text-align: right;\n",
       "    }\n",
       "</style>\n",
       "<table border=\"1\" class=\"dataframe\">\n",
       "  <thead>\n",
       "    <tr style=\"text-align: right;\">\n",
       "      <th></th>\n",
       "      <th>hypothesis</th>\n",
       "      <th>reach</th>\n",
       "      <th>impact</th>\n",
       "      <th>confidence</th>\n",
       "      <th>efforts</th>\n",
       "      <th>ICE</th>\n",
       "      <th>RICE</th>\n",
       "    </tr>\n",
       "  </thead>\n",
       "  <tbody>\n",
       "    <tr>\n",
       "      <th>7</th>\n",
       "      <td>Добавить форму подписки на все основные страницы, чтобы собрать базу клиентов для email-рассылок</td>\n",
       "      <td>10</td>\n",
       "      <td>7</td>\n",
       "      <td>8</td>\n",
       "      <td>5</td>\n",
       "      <td>11.200000</td>\n",
       "      <td>112.0</td>\n",
       "    </tr>\n",
       "    <tr>\n",
       "      <th>2</th>\n",
       "      <td>Добавить блоки рекомендаций товаров на сайт интернет магазина, чтобы повысить конверсию и средний чек заказа</td>\n",
       "      <td>8</td>\n",
       "      <td>3</td>\n",
       "      <td>7</td>\n",
       "      <td>3</td>\n",
       "      <td>7.000000</td>\n",
       "      <td>56.0</td>\n",
       "    </tr>\n",
       "    <tr>\n",
       "      <th>0</th>\n",
       "      <td>Добавить два новых канала привлечения трафика, что позволит привлекать на 30% больше пользователей</td>\n",
       "      <td>3</td>\n",
       "      <td>10</td>\n",
       "      <td>8</td>\n",
       "      <td>6</td>\n",
       "      <td>13.333333</td>\n",
       "      <td>40.0</td>\n",
       "    </tr>\n",
       "    <tr>\n",
       "      <th>6</th>\n",
       "      <td>Показать на главной странице баннеры с актуальными акциями и распродажами, чтобы увеличить конверсию</td>\n",
       "      <td>5</td>\n",
       "      <td>3</td>\n",
       "      <td>8</td>\n",
       "      <td>3</td>\n",
       "      <td>8.000000</td>\n",
       "      <td>40.0</td>\n",
       "    </tr>\n",
       "    <tr>\n",
       "      <th>8</th>\n",
       "      <td>Запустить акцию, дающую скидку на товар в день рождения</td>\n",
       "      <td>1</td>\n",
       "      <td>9</td>\n",
       "      <td>9</td>\n",
       "      <td>5</td>\n",
       "      <td>16.200000</td>\n",
       "      <td>16.2</td>\n",
       "    </tr>\n",
       "    <tr>\n",
       "      <th>3</th>\n",
       "      <td>Изменить структура категорий, что увеличит конверсию, т.к. пользователи быстрее найдут нужный товар</td>\n",
       "      <td>8</td>\n",
       "      <td>3</td>\n",
       "      <td>3</td>\n",
       "      <td>8</td>\n",
       "      <td>1.125000</td>\n",
       "      <td>9.0</td>\n",
       "    </tr>\n",
       "    <tr>\n",
       "      <th>1</th>\n",
       "      <td>Запустить собственную службу доставки, что сократит срок доставки заказов</td>\n",
       "      <td>2</td>\n",
       "      <td>5</td>\n",
       "      <td>4</td>\n",
       "      <td>10</td>\n",
       "      <td>2.000000</td>\n",
       "      <td>4.0</td>\n",
       "    </tr>\n",
       "    <tr>\n",
       "      <th>5</th>\n",
       "      <td>Добавить страницу отзывов клиентов о магазине, что позволит увеличить количество заказов</td>\n",
       "      <td>3</td>\n",
       "      <td>2</td>\n",
       "      <td>2</td>\n",
       "      <td>3</td>\n",
       "      <td>1.333333</td>\n",
       "      <td>4.0</td>\n",
       "    </tr>\n",
       "    <tr>\n",
       "      <th>4</th>\n",
       "      <td>Изменить цвет фона главной страницы, чтобы увеличить вовлеченность пользователей</td>\n",
       "      <td>3</td>\n",
       "      <td>1</td>\n",
       "      <td>1</td>\n",
       "      <td>1</td>\n",
       "      <td>1.000000</td>\n",
       "      <td>3.0</td>\n",
       "    </tr>\n",
       "  </tbody>\n",
       "</table>\n",
       "</div>"
      ],
      "text/plain": [
       "                                                                                                     hypothesis  \\\n",
       "7              Добавить форму подписки на все основные страницы, чтобы собрать базу клиентов для email-рассылок   \n",
       "2  Добавить блоки рекомендаций товаров на сайт интернет магазина, чтобы повысить конверсию и средний чек заказа   \n",
       "0            Добавить два новых канала привлечения трафика, что позволит привлекать на 30% больше пользователей   \n",
       "6          Показать на главной странице баннеры с актуальными акциями и распродажами, чтобы увеличить конверсию   \n",
       "8                                                       Запустить акцию, дающую скидку на товар в день рождения   \n",
       "3           Изменить структура категорий, что увеличит конверсию, т.к. пользователи быстрее найдут нужный товар   \n",
       "1                                     Запустить собственную службу доставки, что сократит срок доставки заказов   \n",
       "5                      Добавить страницу отзывов клиентов о магазине, что позволит увеличить количество заказов   \n",
       "4                              Изменить цвет фона главной страницы, чтобы увеличить вовлеченность пользователей   \n",
       "\n",
       "   reach  impact  confidence  efforts        ICE   RICE  \n",
       "7     10       7           8        5  11.200000  112.0  \n",
       "2      8       3           7        3   7.000000   56.0  \n",
       "0      3      10           8        6  13.333333   40.0  \n",
       "6      5       3           8        3   8.000000   40.0  \n",
       "8      1       9           9        5  16.200000   16.2  \n",
       "3      8       3           3        8   1.125000    9.0  \n",
       "1      2       5           4       10   2.000000    4.0  \n",
       "5      3       2           2        3   1.333333    4.0  \n",
       "4      3       1           1        1   1.000000    3.0  "
      ]
     },
     "execution_count": 22,
     "metadata": {},
     "output_type": "execute_result"
    }
   ],
   "source": [
    "hypothesis['RICE'] = (hypothesis['reach']*hypothesis['impact']*hypothesis['confidence'])/hypothesis['efforts']\n",
    "hypothesis.sort_values(by='RICE', ascending=False)"
   ]
  },
  {
   "cell_type": "markdown",
   "metadata": {},
   "source": [
    "In the case of the `RICE` framework, a high estimate of the number of users affected by the change is of additional importance.\n",
    "\n",
    "Here the situation according to the leading hypotheses changes:\n",
    "\n",
    "    1. add a subscription form to all main pages in order to build a customer base for email newsletters;\n",
    "    \n",
    "    2. add product recommendation blocks to the online store website to increase conversion and average order check;\n",
    "    \n",
    "    3. add two new traffic acquisition channels which will attract 30% more users;\n",
    "    \n",
    "    4. display banners with current promotions and sales on the main page to increase conversions.\n",
    "    \n",
    "    \n",
    "The birthday discount hypothesis descends from position one to position five."
   ]
  },
  {
   "cell_type": "markdown",
   "metadata": {},
   "source": [
    "<div style=\"border:solid green 2px; padding: 20px\">\n",
    "    \n",
    "As mentioned earlier, in the case of using the `RICE` framework, the `reach` score acquires additional significance, which is not in the calculations of the `ICE` framework.\n",
    "    \n",
    "Thus, the **hypothesis about adding a subscription form to all main pages** could come out on top, as it will affect all users who leave their e-mail in the specified form, which provides 100% `reach` - that is, the score 10.\n",
    "    \n",
    "In the same way, the **hypothesis about adding product recommendation blocks** starts to lead, which has a `reach` score of 8 points, despite the fact that it has one of the lowest `impact` scores.\n",
    "    \n",
    "The **Birthday Discount Hypothesis** drops out of the leaderboard because it has the lowest `reach` score of 1. In fact, it is extremely rare for users to provide additional information such as their date of birth, as this field is usually optional.\n",
    "    \n",
    "Based on the results of using the `RICE` framework, the third place was shared by the **hypothesis about two new channels for attracting traffic and the hypothesis about placing banners with current promotions on the main page of the site**. The last one is also in fourth place if we use the `ICE` framework.\n",
    "    \n",
    "This situation is due to one of the high `confidence` scores - confidence that this step will really affect the increase in conversion, as well as a score of 5 points for the `reach` indicator. Indeed, this may affect only half of the audience, but of those customers who pay attention and are interested in receiving goods on a special offer, the likelihood that they will make a bargain increases.\n",
    "    "
   ]
  },
  {
   "cell_type": "markdown",
   "metadata": {},
   "source": [
    "## A/B-test analysis"
   ]
  },
  {
   "cell_type": "markdown",
   "metadata": {},
   "source": [
    "\n",
    "The A/B test completed, and we got the results that are described in the `orders.csv` and `visitors.csv` files.\n",
    "\n",
    "Let's analyze the test results."
   ]
  },
  {
   "cell_type": "markdown",
   "metadata": {},
   "source": [
    "### Chart of cumulative revenue and average bill by groups"
   ]
  },
  {
   "cell_type": "code",
   "execution_count": 23,
   "metadata": {},
   "outputs": [
    {
     "data": {
      "text/html": [
       "<div>\n",
       "<style scoped>\n",
       "    .dataframe tbody tr th:only-of-type {\n",
       "        vertical-align: middle;\n",
       "    }\n",
       "\n",
       "    .dataframe tbody tr th {\n",
       "        vertical-align: top;\n",
       "    }\n",
       "\n",
       "    .dataframe thead th {\n",
       "        text-align: right;\n",
       "    }\n",
       "</style>\n",
       "<table border=\"1\" class=\"dataframe\">\n",
       "  <thead>\n",
       "    <tr style=\"text-align: right;\">\n",
       "      <th></th>\n",
       "      <th>transactionId</th>\n",
       "      <th>visitorId</th>\n",
       "      <th>date</th>\n",
       "      <th>revenue</th>\n",
       "      <th>group</th>\n",
       "    </tr>\n",
       "  </thead>\n",
       "  <tbody>\n",
       "    <tr>\n",
       "      <th>0</th>\n",
       "      <td>3667963787</td>\n",
       "      <td>3312258926</td>\n",
       "      <td>2019-08-15</td>\n",
       "      <td>1650</td>\n",
       "      <td>B</td>\n",
       "    </tr>\n",
       "    <tr>\n",
       "      <th>1</th>\n",
       "      <td>2804400009</td>\n",
       "      <td>3642806036</td>\n",
       "      <td>2019-08-15</td>\n",
       "      <td>730</td>\n",
       "      <td>B</td>\n",
       "    </tr>\n",
       "    <tr>\n",
       "      <th>3</th>\n",
       "      <td>3797467345</td>\n",
       "      <td>1196621759</td>\n",
       "      <td>2019-08-15</td>\n",
       "      <td>9759</td>\n",
       "      <td>B</td>\n",
       "    </tr>\n",
       "    <tr>\n",
       "      <th>4</th>\n",
       "      <td>2282983706</td>\n",
       "      <td>2322279887</td>\n",
       "      <td>2019-08-15</td>\n",
       "      <td>2308</td>\n",
       "      <td>B</td>\n",
       "    </tr>\n",
       "    <tr>\n",
       "      <th>5</th>\n",
       "      <td>182168103</td>\n",
       "      <td>935554773</td>\n",
       "      <td>2019-08-15</td>\n",
       "      <td>2210</td>\n",
       "      <td>B</td>\n",
       "    </tr>\n",
       "  </tbody>\n",
       "</table>\n",
       "</div>"
      ],
      "text/plain": [
       "   transactionId   visitorId       date  revenue group\n",
       "0     3667963787  3312258926 2019-08-15     1650     B\n",
       "1     2804400009  3642806036 2019-08-15      730     B\n",
       "3     3797467345  1196621759 2019-08-15     9759     B\n",
       "4     2282983706  2322279887 2019-08-15     2308     B\n",
       "5      182168103   935554773 2019-08-15     2210     B"
      ]
     },
     "metadata": {},
     "output_type": "display_data"
    },
    {
     "data": {
      "text/html": [
       "<div>\n",
       "<style scoped>\n",
       "    .dataframe tbody tr th:only-of-type {\n",
       "        vertical-align: middle;\n",
       "    }\n",
       "\n",
       "    .dataframe tbody tr th {\n",
       "        vertical-align: top;\n",
       "    }\n",
       "\n",
       "    .dataframe thead th {\n",
       "        text-align: right;\n",
       "    }\n",
       "</style>\n",
       "<table border=\"1\" class=\"dataframe\">\n",
       "  <thead>\n",
       "    <tr style=\"text-align: right;\">\n",
       "      <th></th>\n",
       "      <th>date</th>\n",
       "      <th>group</th>\n",
       "      <th>visitors</th>\n",
       "    </tr>\n",
       "  </thead>\n",
       "  <tbody>\n",
       "    <tr>\n",
       "      <th>0</th>\n",
       "      <td>2019-08-01</td>\n",
       "      <td>A</td>\n",
       "      <td>719</td>\n",
       "    </tr>\n",
       "    <tr>\n",
       "      <th>1</th>\n",
       "      <td>2019-08-02</td>\n",
       "      <td>A</td>\n",
       "      <td>619</td>\n",
       "    </tr>\n",
       "    <tr>\n",
       "      <th>2</th>\n",
       "      <td>2019-08-03</td>\n",
       "      <td>A</td>\n",
       "      <td>507</td>\n",
       "    </tr>\n",
       "    <tr>\n",
       "      <th>3</th>\n",
       "      <td>2019-08-04</td>\n",
       "      <td>A</td>\n",
       "      <td>717</td>\n",
       "    </tr>\n",
       "    <tr>\n",
       "      <th>4</th>\n",
       "      <td>2019-08-05</td>\n",
       "      <td>A</td>\n",
       "      <td>756</td>\n",
       "    </tr>\n",
       "  </tbody>\n",
       "</table>\n",
       "</div>"
      ],
      "text/plain": [
       "        date group  visitors\n",
       "0 2019-08-01     A       719\n",
       "1 2019-08-02     A       619\n",
       "2 2019-08-03     A       507\n",
       "3 2019-08-04     A       717\n",
       "4 2019-08-05     A       756"
      ]
     },
     "execution_count": 23,
     "metadata": {},
     "output_type": "execute_result"
    }
   ],
   "source": [
    "# read data from files with A/B testing results\n",
    "display(orders.head())\n",
    "visitors.head()"
   ]
  },
  {
   "cell_type": "markdown",
   "metadata": {},
   "source": [
    "\n",
    "To create a chart, you need to collect cumulative data.\n",
    "\n",
    "Let's declare a `cumulativeData` dataframe with columns:\n",
    "\n",
    "* \t\t`date` — date of the test;\n",
    "* \t\t`group` — group of A/B-test (A or B);\n",
    "* \t\t`orders` — cumulative number of orders for the specified date in the specified group;\n",
    "* \t\t`buyers` — cumulative number of users who made at least one order on the specified date in the specified group;\n",
    "* \t\t`revenue` — cumulative revenue as of the specified date in the specified group (average check);\n",
    "* \t\t`visitors` — the cumulative number of visitors to the online store on the specified date in a specific group.\n",
    "\n",
    "An array of unique pairs of date values and test groups `datesGroups`, as well as aggregated cumulative data on online store visitors `visitorsAggregated` by day, were created earlier in the data preprocessing part.\n"
   ]
  },
  {
   "cell_type": "markdown",
   "metadata": {},
   "source": [
    "\n",
    "Get the rows of the `orders ` table whose date is less than or equal to the date of the element from `datesGroups `, and the test group is equal to the group from `datesGroups `:\n",
    "\n",
    " `orders[np.logical_and(orders['date'] <= x['date'], orders['group'] == x['group'])] `\n",
    "\n",
    "Aggregate values:\n",
    "\n",
    "- Calculate the maximum date. \n",
    "- For the group we will also calculate the maximum, and although it will be certain, we will do this so that the `group` column does not disappear from the final output. \n",
    "- Find the number of unique order IDs and users.\n",
    "- Calculate the sum of average checks.\n",
    "\n",
    " `.agg({'date' : 'max', 'group' : 'max', 'orderId' : 'nunique', 'userId' : 'nunique', 'revenue' : 'sum'}) `.\n",
    "\n",
    "Apply the methods to each row of the dataframe:  `apply(axis=1)` \n",
    "\n",
    "and sort the results by columns  `date ` и  `group `:"
   ]
  },
  {
   "cell_type": "code",
   "execution_count": 24,
   "metadata": {},
   "outputs": [],
   "source": [
    "# we get aggregated cumulative data on orders by day\n",
    "ordersAggregated = (datesGroups\n",
    "                    .apply(lambda x: \n",
    "                           orders[np.logical_and(orders['date'] <= x['date'], orders['group'] == x['group'])]\\\n",
    "                           .agg({'date' : 'max', \n",
    "                                 'group' : 'max', \n",
    "                                 'transactionId' : 'nunique', \n",
    "                                 'visitorId' : 'nunique', \n",
    "                                 'revenue' : 'sum'}), \n",
    "                           axis=1)\n",
    "                    .sort_values(by=['date','group'])\n",
    "                   )    "
   ]
  },
  {
   "cell_type": "code",
   "execution_count": 25,
   "metadata": {},
   "outputs": [
    {
     "data": {
      "text/html": [
       "<div>\n",
       "<style scoped>\n",
       "    .dataframe tbody tr th:only-of-type {\n",
       "        vertical-align: middle;\n",
       "    }\n",
       "\n",
       "    .dataframe tbody tr th {\n",
       "        vertical-align: top;\n",
       "    }\n",
       "\n",
       "    .dataframe thead th {\n",
       "        text-align: right;\n",
       "    }\n",
       "</style>\n",
       "<table border=\"1\" class=\"dataframe\">\n",
       "  <thead>\n",
       "    <tr style=\"text-align: right;\">\n",
       "      <th></th>\n",
       "      <th>date</th>\n",
       "      <th>group</th>\n",
       "      <th>orders</th>\n",
       "      <th>buyers</th>\n",
       "      <th>revenue</th>\n",
       "      <th>visitors</th>\n",
       "    </tr>\n",
       "  </thead>\n",
       "  <tbody>\n",
       "    <tr>\n",
       "      <th>0</th>\n",
       "      <td>2019-08-01</td>\n",
       "      <td>A</td>\n",
       "      <td>23</td>\n",
       "      <td>19</td>\n",
       "      <td>142779</td>\n",
       "      <td>719</td>\n",
       "    </tr>\n",
       "    <tr>\n",
       "      <th>1</th>\n",
       "      <td>2019-08-01</td>\n",
       "      <td>B</td>\n",
       "      <td>17</td>\n",
       "      <td>17</td>\n",
       "      <td>59758</td>\n",
       "      <td>713</td>\n",
       "    </tr>\n",
       "    <tr>\n",
       "      <th>2</th>\n",
       "      <td>2019-08-02</td>\n",
       "      <td>A</td>\n",
       "      <td>42</td>\n",
       "      <td>36</td>\n",
       "      <td>234381</td>\n",
       "      <td>1338</td>\n",
       "    </tr>\n",
       "    <tr>\n",
       "      <th>3</th>\n",
       "      <td>2019-08-02</td>\n",
       "      <td>B</td>\n",
       "      <td>40</td>\n",
       "      <td>39</td>\n",
       "      <td>221801</td>\n",
       "      <td>1294</td>\n",
       "    </tr>\n",
       "    <tr>\n",
       "      <th>4</th>\n",
       "      <td>2019-08-03</td>\n",
       "      <td>A</td>\n",
       "      <td>66</td>\n",
       "      <td>60</td>\n",
       "      <td>346854</td>\n",
       "      <td>1845</td>\n",
       "    </tr>\n",
       "  </tbody>\n",
       "</table>\n",
       "</div>"
      ],
      "text/plain": [
       "        date group  orders  buyers  revenue  visitors\n",
       "0 2019-08-01     A      23      19   142779       719\n",
       "1 2019-08-01     B      17      17    59758       713\n",
       "2 2019-08-02     A      42      36   234381      1338\n",
       "3 2019-08-02     B      40      39   221801      1294\n",
       "4 2019-08-03     A      66      60   346854      1845"
      ]
     },
     "execution_count": 25,
     "metadata": {},
     "output_type": "execute_result"
    }
   ],
   "source": [
    "# combine cumulative data in one table and assign understandable names to its columns\n",
    "cumulativeData = ordersAggregated.merge(visitorsAggregated, left_on=['date', 'group'], right_on=['date', 'group'])\n",
    "cumulativeData.columns = ['date', 'group', 'orders', 'buyers', 'revenue', 'visitors']\n",
    "\n",
    "cumulativeData.head()"
   ]
  },
  {
   "cell_type": "code",
   "execution_count": 26,
   "metadata": {},
   "outputs": [
    {
     "data": {
      "text/plain": [
       "Timestamp('2019-08-01 00:00:00')"
      ]
     },
     "metadata": {},
     "output_type": "display_data"
    },
    {
     "data": {
      "text/plain": [
       "Timestamp('2019-08-31 00:00:00')"
      ]
     },
     "execution_count": 26,
     "metadata": {},
     "output_type": "execute_result"
    }
   ],
   "source": [
    "# check column with date info\n",
    "display(cumulativeData['date'].min())\n",
    "cumulativeData['date'].max()"
   ]
  },
  {
   "cell_type": "markdown",
   "metadata": {},
   "source": [
    "The dates remained the same: from August 01 to August 31, 2019. Everything is fine."
   ]
  },
  {
   "cell_type": "markdown",
   "metadata": {},
   "source": [
    "Let's create the charts of cumulative revenue by days and groups of A/B testing:"
   ]
  },
  {
   "cell_type": "code",
   "execution_count": 28,
   "metadata": {},
   "outputs": [
    {
     "data": {
      "image/png": "[encoded data removed]",
      "text/plain": [
       "<Figure size 1000x400 with 1 Axes>"
      ]
     },
     "metadata": {},
     "output_type": "display_data"
    }
   ],
   "source": [
    "# dataframe with cumulative number of orders and cumulative revenue by day in group A\n",
    "cumulativeRevenueA = cumulativeData[cumulativeData['group']=='A'][['date','revenue', 'orders']]\n",
    "\n",
    "# dataframe with cumulative number of orders and cumulative revenue by day in group B\n",
    "cumulativeRevenueB = cumulativeData[cumulativeData['group']=='B'][['date','revenue', 'orders']]\n",
    "\n",
    "plt.figure(figsize=(10, 4))\n",
    "\n",
    "# create a chart of the revenue of group A\n",
    "plt.plot(cumulativeRevenueA['date'], cumulativeRevenueA['revenue'], label='A')\n",
    "\n",
    "# create a chart of the revenue of group B\n",
    "plt.plot(cumulativeRevenueB['date'], cumulativeRevenueB['revenue'], label='B')\n",
    "\n",
    "plt.legend()\n",
    "plt.xlabel('Date')\n",
    "plt.title('Line chart of cumulative revenue by groups')\n",
    "plt.show()"
   ]
  },
  {
   "cell_type": "markdown",
   "metadata": {},
   "source": [
    "\n",
    "According to the chart we can see revenue growth in both groups, and it is a good sign.\n",
    "\n",
    "Their growth is approximately the same until mid-August, after which a sharp jump is observed in group B. This could be affected either by a sharp increase in the number of orders, or the appearance of very expensive orders."
   ]
  },
  {
   "cell_type": "code",
   "execution_count": 29,
   "metadata": {},
   "outputs": [
    {
     "data": {
      "image/png": "[encoded data removed]",
      "text/plain": [
       "<Figure size 1000x500 with 1 Axes>"
      ]
     },
     "metadata": {},
     "output_type": "display_data"
    }
   ],
   "source": [
    "plt.figure(figsize=(10, 5))\n",
    "# create the charts of the average check by groups\n",
    "plt.plot(cumulativeRevenueA['date'], cumulativeRevenueA['revenue']/cumulativeRevenueA['orders'], label='A')\n",
    "plt.plot(cumulativeRevenueB['date'], cumulativeRevenueB['revenue']/cumulativeRevenueB['orders'], label='B')\n",
    "\n",
    "plt.legend()\n",
    "plt.xlabel('Date')\n",
    "plt.title('Line chart of the cumulative average check by groups')\n",
    "plt.show()"
   ]
  },
  {
   "cell_type": "markdown",
   "metadata": {},
   "source": [
    "The average check is by no means uniform in groups.\n",
    "\n",
    "In group A the average bill decreases by the beginning of August, by mid-August it becomes slightly larger than group B, only after that it stabilizes and remains constant until the end of the test.\n",
    "\n",
    "In group B the average check is growing, but in leaps and bounds, and again we see a sharp increase in the average check in mid-August, after which the level of the average check begins to gradually decrease. Orders with a large average check could have affected such a surge."
   ]
  },
  {
   "cell_type": "markdown",
   "metadata": {},
   "source": [
    "### Chart of the relative change in the cumulative average check of group B to group A"
   ]
  },
  {
   "cell_type": "markdown",
   "metadata": {},
   "source": [
    "Let's create a chart of the relative difference for the average bill.\n",
    "\n",
    "Add a horizontal axis using the `axhline()` method:"
   ]
  },
  {
   "cell_type": "code",
   "execution_count": 30,
   "metadata": {},
   "outputs": [
    {
     "data": {
      "image/png": "[encoded data removed]",
      "text/plain": [
       "<Figure size 1200x500 with 1 Axes>"
      ]
     },
     "metadata": {},
     "output_type": "display_data"
    }
   ],
   "source": [
    "# collect data in one dataframe\n",
    "mergedCumulativeRevenue = (cumulativeRevenueA\n",
    "                           .merge(cumulativeRevenueB, \n",
    "                                  left_on='date', \n",
    "                                  right_on='date', \n",
    "                                  how='left', \n",
    "                                  suffixes=['A', 'B'])\n",
    "                          )\n",
    "\n",
    "plt.figure(figsize=(12, 5))\n",
    "\n",
    "# create the ratio of average bills\n",
    "plt.plot(mergedCumulativeRevenue['date'], \n",
    "         (mergedCumulativeRevenue['revenueB']/mergedCumulativeRevenue['ordersB'])/\n",
    "         (mergedCumulativeRevenue['revenueA']/mergedCumulativeRevenue['ordersA'])-1)\n",
    "\n",
    "# add X axis\n",
    "plt.axhline(y=0, color='black', linestyle='--')\n",
    "plt.xlabel('Date')\n",
    "plt.title('Relative difference chart for the average check')\n",
    "plt.show()"
   ]
  },
  {
   "cell_type": "markdown",
   "metadata": {},
   "source": [
    "There are several points on the graph where we see either a sharp increase or a sharp decline in differences between segments.\n",
    "This can be affected by large orders and outliers, which we will check next."
   ]
  },
  {
   "cell_type": "markdown",
   "metadata": {},
   "source": [
    "### Chart of the cumulative average number of orders per visitor by group"
   ]
  },
  {
   "cell_type": "markdown",
   "metadata": {},
   "source": [
    "Let's create a chart of the cumulative average number of orders per visitor by groups."
   ]
  },
  {
   "cell_type": "code",
   "execution_count": 31,
   "metadata": {},
   "outputs": [
    {
     "data": {
      "image/png": "[encoded data removed]",
      "text/plain": [
       "<Figure size 1200x500 with 1 Axes>"
      ]
     },
     "metadata": {},
     "output_type": "display_data"
    }
   ],
   "source": [
    "# calculate cumulative conversion\n",
    "cumulativeData['conversion'] = cumulativeData['orders']/cumulativeData['visitors']\n",
    "\n",
    "# separating data by group A\n",
    "cumulativeDataA = cumulativeData[cumulativeData['group']=='A']\n",
    "\n",
    "# separating data by group B\n",
    "cumulativeDataB = cumulativeData[cumulativeData['group']=='B']\n",
    "\n",
    "plt.figure(figsize=(12, 5))\n",
    "# create the charts\n",
    "plt.plot(cumulativeDataA['date'], cumulativeDataA['conversion'], label='A')\n",
    "plt.plot(cumulativeDataB['date'], cumulativeDataB['conversion'], label='B')\n",
    "\n",
    "plt.legend()\n",
    "plt.xlabel('Date')\n",
    "plt.title('Chart of cumulative conversion by groups')\n",
    "plt.show()"
   ]
  },
  {
   "cell_type": "markdown",
   "metadata": {},
   "source": [
    "Group A started with a higher conversion rate than group B, but after the first week of the test, group A's conversion decreased sharply, while group B's conversion increased.\n",
    "\n",
    "The conversions of both groups were at relatively stable levels until the end of the test."
   ]
  },
  {
   "cell_type": "markdown",
   "metadata": {},
   "source": [
    "### Chart of the relative change in the cumulative average number of orders per visitor of group B to group A"
   ]
  },
  {
   "cell_type": "markdown",
   "metadata": {},
   "source": [
    "Let's create a chart of the relative difference in cumulative conversions:"
   ]
  },
  {
   "cell_type": "code",
   "execution_count": 32,
   "metadata": {},
   "outputs": [
    {
     "data": {
      "image/png": "[encoded data removed]",
      "text/plain": [
       "<Figure size 1200x500 with 1 Axes>"
      ]
     },
     "metadata": {},
     "output_type": "display_data"
    }
   ],
   "source": [
    "mergedCumulativeConversions = (cumulativeDataA[['date','conversion']]\n",
    "                               .merge(cumulativeDataB[['date','conversion']], \n",
    "                                      left_on='date', \n",
    "                                      right_on='date', \n",
    "                                      how='left', \n",
    "                                      suffixes=['A', 'B'])\n",
    "                              )\n",
    "\n",
    "plt.figure(figsize=(12, 5))\n",
    "\n",
    "plt.plot(mergedCumulativeConversions['date'], \n",
    "         mergedCumulativeConversions['conversionB']/mergedCumulativeConversions['conversionA']-1, \n",
    "         label=\"Relative increase in conversion of group B relative to group A\")\n",
    "\n",
    "plt.legend()\n",
    "\n",
    "plt.axhline(y=0, color='black', linestyle='--')\n",
    "plt.axhline(y=-0.1, color='grey', linestyle='--')\n",
    "\n",
    "plt.show()"
   ]
  },
  {
   "cell_type": "markdown",
   "metadata": {},
   "source": [
    "\n",
    "Initially the conversion of group B either rose sharply or fell sharply relative to the conversion of group A.\n",
    "\n",
    "Literally after 5 days of the test the conversion of group B increased significantly relative to group A and remained at a high level until the end of the test.\n",
    "\n",
    "Next, we analyze possible outliers and anomalies to get a more accurate picture."
   ]
  },
  {
   "cell_type": "markdown",
   "metadata": {},
   "source": [
    "### Scatter plot and 95th and 99th percentiles of orders by user"
   ]
  },
  {
   "cell_type": "markdown",
   "metadata": {},
   "source": [
    "\n",
    "Let's start analyzing outliers and anomalies in order to avoid errors in the results of the A/B test.\n",
    "\n",
    "Firstly we will examine the order data:"
   ]
  },
  {
   "cell_type": "code",
   "execution_count": 33,
   "metadata": {},
   "outputs": [
    {
     "data": {
      "text/html": [
       "<div>\n",
       "<style scoped>\n",
       "    .dataframe tbody tr th:only-of-type {\n",
       "        vertical-align: middle;\n",
       "    }\n",
       "\n",
       "    .dataframe tbody tr th {\n",
       "        vertical-align: top;\n",
       "    }\n",
       "\n",
       "    .dataframe thead th {\n",
       "        text-align: right;\n",
       "    }\n",
       "</style>\n",
       "<table border=\"1\" class=\"dataframe\">\n",
       "  <thead>\n",
       "    <tr style=\"text-align: right;\">\n",
       "      <th></th>\n",
       "      <th>transactionId</th>\n",
       "      <th>visitorId</th>\n",
       "      <th>date</th>\n",
       "      <th>revenue</th>\n",
       "      <th>group</th>\n",
       "    </tr>\n",
       "  </thead>\n",
       "  <tbody>\n",
       "    <tr>\n",
       "      <th>0</th>\n",
       "      <td>3667963787</td>\n",
       "      <td>3312258926</td>\n",
       "      <td>2019-08-15</td>\n",
       "      <td>1650</td>\n",
       "      <td>B</td>\n",
       "    </tr>\n",
       "    <tr>\n",
       "      <th>1</th>\n",
       "      <td>2804400009</td>\n",
       "      <td>3642806036</td>\n",
       "      <td>2019-08-15</td>\n",
       "      <td>730</td>\n",
       "      <td>B</td>\n",
       "    </tr>\n",
       "    <tr>\n",
       "      <th>3</th>\n",
       "      <td>3797467345</td>\n",
       "      <td>1196621759</td>\n",
       "      <td>2019-08-15</td>\n",
       "      <td>9759</td>\n",
       "      <td>B</td>\n",
       "    </tr>\n",
       "    <tr>\n",
       "      <th>4</th>\n",
       "      <td>2282983706</td>\n",
       "      <td>2322279887</td>\n",
       "      <td>2019-08-15</td>\n",
       "      <td>2308</td>\n",
       "      <td>B</td>\n",
       "    </tr>\n",
       "    <tr>\n",
       "      <th>5</th>\n",
       "      <td>182168103</td>\n",
       "      <td>935554773</td>\n",
       "      <td>2019-08-15</td>\n",
       "      <td>2210</td>\n",
       "      <td>B</td>\n",
       "    </tr>\n",
       "    <tr>\n",
       "      <th>6</th>\n",
       "      <td>398296753</td>\n",
       "      <td>2900797465</td>\n",
       "      <td>2019-08-15</td>\n",
       "      <td>1860</td>\n",
       "      <td>B</td>\n",
       "    </tr>\n",
       "    <tr>\n",
       "      <th>7</th>\n",
       "      <td>2626614568</td>\n",
       "      <td>78758296</td>\n",
       "      <td>2019-08-15</td>\n",
       "      <td>1044</td>\n",
       "      <td>A</td>\n",
       "    </tr>\n",
       "    <tr>\n",
       "      <th>8</th>\n",
       "      <td>1576988021</td>\n",
       "      <td>295230930</td>\n",
       "      <td>2019-08-15</td>\n",
       "      <td>13710</td>\n",
       "      <td>A</td>\n",
       "    </tr>\n",
       "    <tr>\n",
       "      <th>9</th>\n",
       "      <td>1506739906</td>\n",
       "      <td>1882260405</td>\n",
       "      <td>2019-08-15</td>\n",
       "      <td>1855</td>\n",
       "      <td>B</td>\n",
       "    </tr>\n",
       "    <tr>\n",
       "      <th>10</th>\n",
       "      <td>3649131742</td>\n",
       "      <td>879864040</td>\n",
       "      <td>2019-08-15</td>\n",
       "      <td>4008</td>\n",
       "      <td>A</td>\n",
       "    </tr>\n",
       "  </tbody>\n",
       "</table>\n",
       "</div>"
      ],
      "text/plain": [
       "    transactionId   visitorId       date  revenue group\n",
       "0      3667963787  3312258926 2019-08-15     1650     B\n",
       "1      2804400009  3642806036 2019-08-15      730     B\n",
       "3      3797467345  1196621759 2019-08-15     9759     B\n",
       "4      2282983706  2322279887 2019-08-15     2308     B\n",
       "5       182168103   935554773 2019-08-15     2210     B\n",
       "6       398296753  2900797465 2019-08-15     1860     B\n",
       "7      2626614568    78758296 2019-08-15     1044     A\n",
       "8      1576988021   295230930 2019-08-15    13710     A\n",
       "9      1506739906  1882260405 2019-08-15     1855     B\n",
       "10     3649131742   879864040 2019-08-15     4008     A"
      ]
     },
     "execution_count": 33,
     "metadata": {},
     "output_type": "execute_result"
    }
   ],
   "source": [
    "orders.head(10)"
   ]
  },
  {
   "cell_type": "markdown",
   "metadata": {},
   "source": [
    "\n",
    "As we can see among the majority of orders ranging from 730 to 4000, there are orders with a much larger amount - about 10,000 and over 13,000. Such orders can distort the test results.\n",
    "\n",
    "Let's build a scatter plot of the number of orders per user:"
   ]
  },
  {
   "cell_type": "code",
   "execution_count": 34,
   "metadata": {},
   "outputs": [
    {
     "data": {
      "text/html": [
       "<div>\n",
       "<style scoped>\n",
       "    .dataframe tbody tr th:only-of-type {\n",
       "        vertical-align: middle;\n",
       "    }\n",
       "\n",
       "    .dataframe tbody tr th {\n",
       "        vertical-align: top;\n",
       "    }\n",
       "\n",
       "    .dataframe thead th {\n",
       "        text-align: right;\n",
       "    }\n",
       "</style>\n",
       "<table border=\"1\" class=\"dataframe\">\n",
       "  <thead>\n",
       "    <tr style=\"text-align: right;\">\n",
       "      <th></th>\n",
       "      <th>userId</th>\n",
       "      <th>orders</th>\n",
       "    </tr>\n",
       "  </thead>\n",
       "  <tbody>\n",
       "    <tr>\n",
       "      <th>908</th>\n",
       "      <td>3967698036</td>\n",
       "      <td>3</td>\n",
       "    </tr>\n",
       "    <tr>\n",
       "      <th>55</th>\n",
       "      <td>249864742</td>\n",
       "      <td>3</td>\n",
       "    </tr>\n",
       "    <tr>\n",
       "      <th>478</th>\n",
       "      <td>2108163459</td>\n",
       "      <td>3</td>\n",
       "    </tr>\n",
       "    <tr>\n",
       "      <th>687</th>\n",
       "      <td>2988190573</td>\n",
       "      <td>3</td>\n",
       "    </tr>\n",
       "    <tr>\n",
       "      <th>890</th>\n",
       "      <td>3908431265</td>\n",
       "      <td>3</td>\n",
       "    </tr>\n",
       "    <tr>\n",
       "      <th>138</th>\n",
       "      <td>611059232</td>\n",
       "      <td>3</td>\n",
       "    </tr>\n",
       "    <tr>\n",
       "      <th>632</th>\n",
       "      <td>2742574263</td>\n",
       "      <td>3</td>\n",
       "    </tr>\n",
       "    <tr>\n",
       "      <th>157</th>\n",
       "      <td>678354126</td>\n",
       "      <td>2</td>\n",
       "    </tr>\n",
       "    <tr>\n",
       "      <th>323</th>\n",
       "      <td>1404560065</td>\n",
       "      <td>2</td>\n",
       "    </tr>\n",
       "    <tr>\n",
       "      <th>452</th>\n",
       "      <td>1985475298</td>\n",
       "      <td>2</td>\n",
       "    </tr>\n",
       "  </tbody>\n",
       "</table>\n",
       "</div>"
      ],
      "text/plain": [
       "         userId  orders\n",
       "908  3967698036       3\n",
       "55    249864742       3\n",
       "478  2108163459       3\n",
       "687  2988190573       3\n",
       "890  3908431265       3\n",
       "138   611059232       3\n",
       "632  2742574263       3\n",
       "157   678354126       2\n",
       "323  1404560065       2\n",
       "452  1985475298       2"
      ]
     },
     "execution_count": 34,
     "metadata": {},
     "output_type": "execute_result"
    }
   ],
   "source": [
    "# count the number of orders by users\n",
    "ordersByUsers = (\n",
    "    orders.groupby('visitorId', as_index=False)\n",
    "    .agg({'transactionId': 'nunique'})\n",
    ")\n",
    "\n",
    "ordersByUsers.columns = ['userId', 'orders']\n",
    "\n",
    "ordersByUsers.sort_values(by='orders', ascending=False).head(10)"
   ]
  },
  {
   "cell_type": "code",
   "execution_count": 35,
   "metadata": {},
   "outputs": [
    {
     "data": {
      "image/png": "[encoded data removed]",
      "text/plain": [
       "<Figure size 1000x500 with 1 Axes>"
      ]
     },
     "metadata": {},
     "output_type": "display_data"
    }
   ],
   "source": [
    "# create a scatter chart\n",
    "x_values = pd.Series(range(0,len(ordersByUsers)))\n",
    "\n",
    "plt.figure(figsize=(10, 5))\n",
    "plt.scatter(x_values, ordersByUsers['orders'])\n",
    "plt.ylabel('The number of orders')\n",
    "plt.title('Chart of the number of orders by users')\n",
    "plt.show()"
   ]
  },
  {
   "cell_type": "markdown",
   "metadata": {},
   "source": [
    "Most of the users made only 1 order, and they were slightly \"diluted\" by users with 2 orders. Already further there are significantly fewer customers with 3 orders.\n",
    "\n",
    "Let's calculate the sample percentiles of the number of orders per user:"
   ]
  },
  {
   "cell_type": "code",
   "execution_count": 36,
   "metadata": {},
   "outputs": [
    {
     "data": {
      "text/plain": [
       "array([1., 1., 2.])"
      ]
     },
     "execution_count": 36,
     "metadata": {},
     "output_type": "execute_result"
    }
   ],
   "source": [
    "np.percentile(ordersByUsers['orders'], [90, 95, 99])"
   ]
  },
  {
   "cell_type": "markdown",
   "metadata": {},
   "source": [
    "\n",
    "Users who made no more than one purchase fell into the 90th and 95th percentiles. And only no more than 1% of customers made more than 2 purchases.\n",
    "\n",
    "It is reasonable to choose more than 2 orders per user beyond the upper limit of the number of orders, and weed out anomalous users on it, so as not to remove a significant part of the information from the data."
   ]
  },
  {
   "cell_type": "markdown",
   "metadata": {},
   "source": [
    "### Scatter plot and 95th and 99th order value percentiles"
   ]
  },
  {
   "cell_type": "markdown",
   "metadata": {},
   "source": [
    "Let's build a scatter plot of the cost of orders:"
   ]
  },
  {
   "cell_type": "code",
   "execution_count": 37,
   "metadata": {},
   "outputs": [
    {
     "data": {
      "image/png": "[encoded data removed]",
      "text/plain": [
       "<Figure size 1000x500 with 1 Axes>"
      ]
     },
     "metadata": {},
     "output_type": "display_data"
    }
   ],
   "source": [
    "plt.figure(figsize=(10, 5))\n",
    "\n",
    "x_values = pd.Series(range(0, len(orders['revenue'])))\n",
    "plt.scatter(x_values, orders['revenue'])\n",
    "\n",
    "plt.ylabel('Order cost')\n",
    "plt.title('Order cost scatter plot')\n",
    "plt.show()"
   ]
  },
  {
   "cell_type": "markdown",
   "metadata": {},
   "source": [
    "\n",
    "According to the chart an order worth 1.2 million and 200 thousand is clearly knocked out. The bulk of orders falls on the level of up to 100,000 thousand and possibly even much lower.\n",
    "\n",
    "Let's limit the data on the Y axis to look at the cost of orders in more detail:"
   ]
  },
  {
   "cell_type": "code",
   "execution_count": 38,
   "metadata": {},
   "outputs": [
    {
     "data": {
      "image/png": "[encoded data removed]",
      "text/plain": [
       "<Figure size 1000x500 with 1 Axes>"
      ]
     },
     "metadata": {},
     "output_type": "display_data"
    }
   ],
   "source": [
    "plt.figure(figsize=(10, 5))\n",
    "plt.ylim(0, 120000)\n",
    "\n",
    "plt.scatter(x_values, orders['revenue'])\n",
    "\n",
    "plt.ylabel('Order cost')\n",
    "plt.title('Scatter plot of the cost of orders with a limit on the Y axis')\n",
    "plt.show()"
   ]
  },
  {
   "cell_type": "markdown",
   "metadata": {},
   "source": [
    "As we can see from the chart above most of the orders barely exceeded 20,000, and there are fewer and fewer orders after the 40,000 border."
   ]
  },
  {
   "cell_type": "markdown",
   "metadata": {},
   "source": [
    "Let's look at the order value percentiles:"
   ]
  },
  {
   "cell_type": "code",
   "execution_count": 39,
   "metadata": {},
   "outputs": [
    {
     "data": {
      "text/plain": [
       "array([17990., 26785., 53904.])"
      ]
     },
     "execution_count": 39,
     "metadata": {},
     "output_type": "execute_result"
    }
   ],
   "source": [
    "np.percentile(orders['revenue'], [90, 95, 99])"
   ]
  },
  {
   "cell_type": "markdown",
   "metadata": {},
   "source": [
    "\n",
    "No more than 5% of orders cost more than 26 thousand. And no more than 1% of orders with a check of more than 53 thousand.\n",
    "\n",
    "In our case, we will limit the data to the 99th percentile so as not to discard a large amount of information."
   ]
  },
  {
   "cell_type": "markdown",
   "metadata": {},
   "source": [
    "### Statistical significance of differences between groups on raw data"
   ]
  },
  {
   "cell_type": "markdown",
   "metadata": {},
   "source": [
    "\n",
    "We will calculate the statistical significance of the differences in the average number of orders per user and the average check between groups according to \"raw\" data - without removing anomalous users.\n",
    "\n",
    "**Hypotheses**:\n",
    "\n",
    "H₀: there is no difference in the average number of orders between groups. \n",
    "\n",
    "H₁: there are mean differences between the groups.\n"
   ]
  },
  {
   "cell_type": "code",
   "execution_count": 40,
   "metadata": {},
   "outputs": [],
   "source": [
    "# calculate the total number of users in group A for each date\n",
    "visitorsADaily = visitors[visitors['group'] == 'A'][['date', 'visitors']]\n",
    "visitorsADaily.columns = ['date', 'visitorsPerDateA']\n",
    "\n",
    "# create cumulative data\n",
    "visitorsACummulative = visitorsADaily.apply(\n",
    "    lambda x: visitorsADaily[visitorsADaily['date'] <= x['date']].agg(\n",
    "        {'date': 'max', 'visitorsPerDateA': 'sum'}\n",
    "    ),\n",
    "    axis=1,\n",
    ")\n",
    "visitorsACummulative.columns = ['date', 'visitorsCummulativeA']"
   ]
  },
  {
   "cell_type": "code",
   "execution_count": 41,
   "metadata": {},
   "outputs": [],
   "source": [
    "# do the same for group B users\n",
    "visitorsBDaily = visitors[visitors['group'] == 'B'][['date', 'visitors']]\n",
    "visitorsBDaily.columns = ['date', 'visitorsPerDateB']\n",
    "\n",
    "visitorsBCummulative = visitorsBDaily.apply(\n",
    "    lambda x: visitorsBDaily[visitorsBDaily['date'] <= x['date']].agg(\n",
    "        {'date': 'max', 'visitorsPerDateB': 'sum'}\n",
    "    ),\n",
    "    axis=1,\n",
    ")\n",
    "visitorsBCummulative.columns = ['date', 'visitorsCummulativeB']"
   ]
  },
  {
   "cell_type": "code",
   "execution_count": 42,
   "metadata": {},
   "outputs": [],
   "source": [
    "# create cumulative data on orders in each group\n",
    "ordersADaily = (\n",
    "    orders[orders['group'] == 'A'][['date', 'transactionId', 'visitorId', 'revenue']]\n",
    "    .groupby('date', as_index=False)\n",
    "    .agg({'transactionId': pd.Series.nunique, 'revenue': 'sum'})\n",
    ")\n",
    "ordersADaily.columns = ['date', 'ordersPerDateA', 'revenuePerDateA']\n",
    "\n",
    "ordersACummulative = ordersADaily.apply(\n",
    "    lambda x: ordersADaily[ordersADaily['date'] <= x['date']].agg(\n",
    "        {'date': 'max', 'ordersPerDateA': 'sum', 'revenuePerDateA': 'sum'}\n",
    "    ),\n",
    "    axis=1,\n",
    ").sort_values(by=['date'])\n",
    "\n",
    "ordersACummulative.columns = [\n",
    "    'date',\n",
    "    'ordersCummulativeA',\n",
    "    'revenueCummulativeA',\n",
    "]"
   ]
  },
  {
   "cell_type": "code",
   "execution_count": 43,
   "metadata": {},
   "outputs": [],
   "source": [
    "# orders and total bill of group B\n",
    "ordersBDaily = (\n",
    "    orders[orders['group'] == 'B'][['date', 'transactionId', 'visitorId', 'revenue']]\n",
    "    .groupby('date', as_index=False)\n",
    "    .agg({'transactionId': pd.Series.nunique, 'revenue': 'sum'})\n",
    ")\n",
    "ordersBDaily.columns = ['date', 'ordersPerDateB', 'revenuePerDateB']\n",
    "\n",
    "ordersBCummulative = ordersBDaily.apply(\n",
    "    lambda x: ordersBDaily[ordersBDaily['date'] <= x['date']].agg(\n",
    "        {'date': 'max', 'ordersPerDateB': 'sum', 'revenuePerDateB': 'sum'}\n",
    "    ),\n",
    "    axis=1,\n",
    ").sort_values(by=['date'])\n",
    "\n",
    "ordersBCummulative.columns = [\n",
    "    'date',\n",
    "    'ordersCummulativeB',\n",
    "    'revenueCummulativeB',\n",
    "]"
   ]
  },
  {
   "cell_type": "code",
   "execution_count": 44,
   "metadata": {},
   "outputs": [
    {
     "data": {
      "text/html": [
       "<div>\n",
       "<style scoped>\n",
       "    .dataframe tbody tr th:only-of-type {\n",
       "        vertical-align: middle;\n",
       "    }\n",
       "\n",
       "    .dataframe tbody tr th {\n",
       "        vertical-align: top;\n",
       "    }\n",
       "\n",
       "    .dataframe thead th {\n",
       "        text-align: right;\n",
       "    }\n",
       "</style>\n",
       "<table border=\"1\" class=\"dataframe\">\n",
       "  <thead>\n",
       "    <tr style=\"text-align: right;\">\n",
       "      <th></th>\n",
       "      <th>date</th>\n",
       "      <th>ordersPerDateA</th>\n",
       "      <th>revenuePerDateA</th>\n",
       "      <th>ordersPerDateB</th>\n",
       "      <th>revenuePerDateB</th>\n",
       "      <th>ordersCummulativeA</th>\n",
       "      <th>revenueCummulativeA</th>\n",
       "      <th>ordersCummulativeB</th>\n",
       "      <th>revenueCummulativeB</th>\n",
       "      <th>visitorsPerDateA</th>\n",
       "      <th>visitorsPerDateB</th>\n",
       "      <th>visitorsCummulativeA</th>\n",
       "      <th>visitorsCummulativeB</th>\n",
       "    </tr>\n",
       "  </thead>\n",
       "  <tbody>\n",
       "    <tr>\n",
       "      <th>0</th>\n",
       "      <td>2019-08-01</td>\n",
       "      <td>23</td>\n",
       "      <td>142779</td>\n",
       "      <td>17</td>\n",
       "      <td>59758</td>\n",
       "      <td>23</td>\n",
       "      <td>142779</td>\n",
       "      <td>17</td>\n",
       "      <td>59758</td>\n",
       "      <td>719</td>\n",
       "      <td>713</td>\n",
       "      <td>719</td>\n",
       "      <td>713</td>\n",
       "    </tr>\n",
       "    <tr>\n",
       "      <th>1</th>\n",
       "      <td>2019-08-02</td>\n",
       "      <td>19</td>\n",
       "      <td>91602</td>\n",
       "      <td>23</td>\n",
       "      <td>162043</td>\n",
       "      <td>42</td>\n",
       "      <td>234381</td>\n",
       "      <td>40</td>\n",
       "      <td>221801</td>\n",
       "      <td>619</td>\n",
       "      <td>581</td>\n",
       "      <td>1338</td>\n",
       "      <td>1294</td>\n",
       "    </tr>\n",
       "    <tr>\n",
       "      <th>2</th>\n",
       "      <td>2019-08-03</td>\n",
       "      <td>24</td>\n",
       "      <td>112473</td>\n",
       "      <td>14</td>\n",
       "      <td>67049</td>\n",
       "      <td>66</td>\n",
       "      <td>346854</td>\n",
       "      <td>54</td>\n",
       "      <td>288850</td>\n",
       "      <td>507</td>\n",
       "      <td>509</td>\n",
       "      <td>1845</td>\n",
       "      <td>1803</td>\n",
       "    </tr>\n",
       "    <tr>\n",
       "      <th>3</th>\n",
       "      <td>2019-08-04</td>\n",
       "      <td>11</td>\n",
       "      <td>41176</td>\n",
       "      <td>14</td>\n",
       "      <td>96890</td>\n",
       "      <td>77</td>\n",
       "      <td>388030</td>\n",
       "      <td>68</td>\n",
       "      <td>385740</td>\n",
       "      <td>717</td>\n",
       "      <td>770</td>\n",
       "      <td>2562</td>\n",
       "      <td>2573</td>\n",
       "    </tr>\n",
       "    <tr>\n",
       "      <th>4</th>\n",
       "      <td>2019-08-05</td>\n",
       "      <td>22</td>\n",
       "      <td>86383</td>\n",
       "      <td>21</td>\n",
       "      <td>89908</td>\n",
       "      <td>99</td>\n",
       "      <td>474413</td>\n",
       "      <td>89</td>\n",
       "      <td>475648</td>\n",
       "      <td>756</td>\n",
       "      <td>707</td>\n",
       "      <td>3318</td>\n",
       "      <td>3280</td>\n",
       "    </tr>\n",
       "  </tbody>\n",
       "</table>\n",
       "</div>"
      ],
      "text/plain": [
       "        date  ordersPerDateA  revenuePerDateA  ordersPerDateB  \\\n",
       "0 2019-08-01              23           142779              17   \n",
       "1 2019-08-02              19            91602              23   \n",
       "2 2019-08-03              24           112473              14   \n",
       "3 2019-08-04              11            41176              14   \n",
       "4 2019-08-05              22            86383              21   \n",
       "\n",
       "   revenuePerDateB  ordersCummulativeA  revenueCummulativeA  \\\n",
       "0            59758                  23               142779   \n",
       "1           162043                  42               234381   \n",
       "2            67049                  66               346854   \n",
       "3            96890                  77               388030   \n",
       "4            89908                  99               474413   \n",
       "\n",
       "   ordersCummulativeB  revenueCummulativeB  visitorsPerDateA  \\\n",
       "0                  17                59758               719   \n",
       "1                  40               221801               619   \n",
       "2                  54               288850               507   \n",
       "3                  68               385740               717   \n",
       "4                  89               475648               756   \n",
       "\n",
       "   visitorsPerDateB  visitorsCummulativeA  visitorsCummulativeB  \n",
       "0               713                   719                   713  \n",
       "1               581                  1338                  1294  \n",
       "2               509                  1845                  1803  \n",
       "3               770                  2562                  2573  \n",
       "4               707                  3318                  3280  "
      ]
     },
     "execution_count": 44,
     "metadata": {},
     "output_type": "execute_result"
    }
   ],
   "source": [
    "# combine the received data into one table and display the first 5 rows on the screen\n",
    "data = (\n",
    "    ordersADaily.merge(\n",
    "        ordersBDaily, left_on='date', right_on='date', how='left'\n",
    "    )\n",
    "    .merge(ordersACummulative, left_on='date', right_on='date', how='left')\n",
    "    .merge(ordersBCummulative, left_on='date', right_on='date', how='left')\n",
    "    .merge(visitorsADaily, left_on='date', right_on='date', how='left')\n",
    "    .merge(visitorsBDaily, left_on='date', right_on='date', how='left')\n",
    "    .merge(visitorsACummulative, left_on='date', right_on='date', how='left')\n",
    "    .merge(visitorsBCummulative, left_on='date', right_on='date', how='left')\n",
    ")\n",
    "\n",
    "data.head()"
   ]
  },
  {
   "cell_type": "markdown",
   "metadata": {},
   "source": [
    "\n",
    "Calculate the statistical significance of the difference in the average number of orders between groups.\n",
    "\n",
    "We will create `ordersByUsersA` and `ordersByUsersB` variables with `visitorId` and `orders` columns. In them, for users who ordered at least 1 time, we indicate the number of completed orders:"
   ]
  },
  {
   "cell_type": "code",
   "execution_count": 45,
   "metadata": {},
   "outputs": [],
   "source": [
    "ordersByUsersA = (\n",
    "    orders[orders['group'] == 'A']\n",
    "    .groupby('visitorId', as_index=False)\n",
    "    .agg({'transactionId': pd.Series.nunique})\n",
    ")\n",
    "ordersByUsersA.columns = ['visitorId', 'orders']\n",
    "\n",
    "ordersByUsersB = (\n",
    "    orders[orders['group'] == 'B']\n",
    "    .groupby('visitorId', as_index=False)\n",
    "    .agg({'transactionId': pd.Series.nunique})\n",
    ")\n",
    "ordersByUsersB.columns = ['visitorId', 'orders']"
   ]
  },
  {
   "cell_type": "markdown",
   "metadata": {},
   "source": [
    "Let's declare the variables `sampleA` and `sampleB` in which the number of orders will correspond to users from different groups. Those who did not order anything will be matched with zeros."
   ]
  },
  {
   "cell_type": "code",
   "execution_count": 46,
   "metadata": {},
   "outputs": [],
   "source": [
    "sampleA = pd.concat([ordersByUsersA['orders'],pd.Series(0,index=np.arange(\n",
    "                data['visitorsPerDateA'].sum() - len(ordersByUsersA['orders'])\n",
    "            ),\n",
    "            name='orders',\n",
    "        ),\n",
    "    ],\n",
    "    axis=0,\n",
    ")\n",
    "\n",
    "sampleB = pd.concat([ordersByUsersB['orders'],pd.Series(0, index=np.arange(\n",
    "                data['visitorsPerDateB'].sum() - len(ordersByUsersB['orders'])\n",
    "            ),\n",
    "            name='orders',\n",
    "        ),\n",
    "    ],\n",
    "    axis=0,\n",
    ")"
   ]
  },
  {
   "cell_type": "code",
   "execution_count": 47,
   "metadata": {},
   "outputs": [
    {
     "name": "stdout",
     "output_type": "stream",
     "text": [
      "P-value: 0.011\n",
      "Relative growth: 0.160\n"
     ]
    }
   ],
   "source": [
    "# apply the Mann-Whitney test\n",
    "print('P-value:', \"{0:.3f}\".format(stats.mannwhitneyu(sampleA, sampleB)[1]))\n",
    "\n",
    "# to get the average number of orders per user, divide the sum of orders by the number of users,\n",
    "# then we derive the relative increase in the average number of orders of group B\n",
    "print('Relative growth:', \"{0:.3f}\".format(sampleB.mean() / sampleA.mean() - 1))"
   ]
  },
  {
   "cell_type": "markdown",
   "metadata": {},
   "source": [
    "\n",
    "**Conclusion**: According to the \"raw\" data there are differences in the average number of orders for groups A and B.\n",
    "\n",
    "The first number — p-value = 0.011 is less than 0.05. This means that the null hypothesis that there are no statistically significant differences in the average number of orders between groups can be rejected and the alternative hypothesis accepted - there are differences.\n",
    "\n",
    "By the second number we can say that group B \"wins\" - the relative growth of group B is 16%."
   ]
  },
  {
   "cell_type": "markdown",
   "metadata": {},
   "source": [
    "\n",
    "Now let's check the statistical significance of differences in the average check between segments. \n",
    "\n",
    "H₀: there were no differences in the average check between the groups.\n",
    "\n",
    "H₁: there are differences in the average check between the groups."
   ]
  },
  {
   "cell_type": "code",
   "execution_count": 48,
   "metadata": {},
   "outputs": [
    {
     "name": "stdout",
     "output_type": "stream",
     "text": [
      "P-value: 0.829\n",
      "Relative difference in average check: 0.287\n"
     ]
    }
   ],
   "source": [
    "# to calculate the statistical significance of differences in the average check, \n",
    "# we pass data on revenue from orders to the mannwhitneyu() criterion\n",
    "print('P-value:', '{0:.3f}'\n",
    "        .format(stats.mannwhitneyu(orders[orders['group']=='A']['revenue'], \n",
    "                                   orders[orders['group']=='B']['revenue'])[1])\n",
    "       )\n",
    "\n",
    "# and find the relative differences in the average check between groups:\n",
    "print('Relative difference in average check:', '{0:.3f}'\n",
    "        .format(orders[orders['group']=='B']['revenue'].mean()/orders[orders['group']=='A']['revenue'].mean()-1))"
   ]
  },
  {
   "cell_type": "markdown",
   "metadata": {},
   "source": [
    "\n",
    "**Conclusion**: P-value is significantly greater than 0.05. There are no statistically significant differences in the average check between the groups.\n",
    "\n",
    "The average check of group B is significantly higher than the average check of group A, by almost 29%, but given that the observed differences are not significant at this level of significance, this may mean that they could be obtained by chance.\n",
    "\n",
    "Next, we proceed to analyze the \"cleaned\" data to look at the results of the group without outliers and anomalies."
   ]
  },
  {
   "cell_type": "markdown",
   "metadata": {},
   "source": [
    "### Statistical significance of differences between groups according to cleaned data"
   ]
  },
  {
   "cell_type": "markdown",
   "metadata": {},
   "source": [
    "Previously we found the 95th and 99th percentiles of average checks, they are 26785 and 53904. And the 95th and 99th percentiles of the number of orders per user are equal to 1 and 2 orders per user.\n",
    "\n",
    "Let's take for anomalous users those who made from 3 orders or made an order more expensive than 53,904 rubles. So we will remove no more than 5% of users with a very high average check and with the largest number of orders.\n",
    "\n",
    "Let's make slices of users with more than 2 orders - `usersWithManyOrders` and users who have made orders more than 53,000 - `usersWithExpensiveOrders`. Let's combine them in the `abnormalUsers` table."
   ]
  },
  {
   "cell_type": "code",
   "execution_count": 49,
   "metadata": {},
   "outputs": [],
   "source": [
    "# create variables in which we will put the result of calculating the percintel\n",
    "perc_rev = np.percentile(orders['revenue'], 99)\n",
    "perc_ord = np.percentile(ordersByUsers['orders'], 99)"
   ]
  },
  {
   "cell_type": "markdown",
   "metadata": {},
   "source": [
    "Find out how many anomalous users are using the `shape` attribute:"
   ]
  },
  {
   "cell_type": "code",
   "execution_count": 50,
   "metadata": {},
   "outputs": [
    {
     "data": {
      "text/plain": [
       "1099    148427295\n",
       "33      249864742\n",
       "58      611059232\n",
       "949     887908475\n",
       "744     888512513\n",
       "Name: visitorId, dtype: int64"
      ]
     },
     "metadata": {},
     "output_type": "display_data"
    },
    {
     "data": {
      "text/plain": [
       "16"
      ]
     },
     "execution_count": 50,
     "metadata": {},
     "output_type": "execute_result"
    }
   ],
   "source": [
    "usersWithManyOrders = pd.concat(\n",
    "    [\n",
    "        ordersByUsersA[ordersByUsersA['orders'] > perc_ord]['visitorId'],\n",
    "        ordersByUsersB[ordersByUsersB['orders'] > perc_ord]['visitorId'],\n",
    "    ],\n",
    "    axis=0,\n",
    ")\n",
    "\n",
    "usersWithExpensiveOrders = orders[orders['revenue'] > perc_rev]['visitorId']\n",
    "\n",
    "abnormalUsers = (\n",
    "    pd.concat([usersWithManyOrders, usersWithExpensiveOrders], axis=0)\n",
    "    .drop_duplicates()\n",
    "    .sort_values()\n",
    ")\n",
    "display(abnormalUsers.head())\n",
    "abnormalUsers.shape[0]"
   ]
  },
  {
   "cell_type": "code",
   "execution_count": 51,
   "metadata": {},
   "outputs": [
    {
     "data": {
      "text/plain": [
       "973"
      ]
     },
     "execution_count": 51,
     "metadata": {},
     "output_type": "execute_result"
    }
   ],
   "source": [
    "orders['visitorId'].nunique()"
   ]
  },
  {
   "cell_type": "markdown",
   "metadata": {},
   "source": [
    "Thus, we identified 16 anomalous users, which is about 2% of the total number of unique users (their total number after \"cleaning\" of dummy users is 973)."
   ]
  },
  {
   "cell_type": "code",
   "execution_count": 52,
   "metadata": {},
   "outputs": [],
   "source": [
    "# prepare samples of the number of orders by users by test groups\n",
    "sampleAFiltered = pd.concat(\n",
    "    [\n",
    "        ordersByUsersA[\n",
    "            np.logical_not(ordersByUsersA['visitorId'].isin(abnormalUsers))\n",
    "        ]['orders'],\n",
    "        pd.Series(\n",
    "            0,\n",
    "            index=np.arange(\n",
    "                data['visitorsPerDateA'].sum() - len(ordersByUsersA['orders'])\n",
    "            ),\n",
    "            name='orders',\n",
    "        ),\n",
    "    ],\n",
    "    axis=0,\n",
    ")\n",
    "\n",
    "sampleBFiltered = pd.concat(\n",
    "    [\n",
    "        ordersByUsersB[\n",
    "            np.logical_not(ordersByUsersB['visitorId'].isin(abnormalUsers))\n",
    "        ]['orders'],\n",
    "        pd.Series(\n",
    "            0,\n",
    "            index=np.arange(\n",
    "                data['visitorsPerDateB'].sum() - len(ordersByUsersB['orders'])\n",
    "            ),\n",
    "            name='orders',\n",
    "        ),\n",
    "    ],\n",
    "    axis=0,\n",
    ")"
   ]
  },
  {
   "cell_type": "code",
   "execution_count": 53,
   "metadata": {},
   "outputs": [
    {
     "name": "stdout",
     "output_type": "stream",
     "text": [
      "P-value: 0.007\n",
      "Relative growth: 0.189\n"
     ]
    }
   ],
   "source": [
    "# apply the Mann-Whitney statistical test to the obtained samples\n",
    "print('P-value:', '{0:.3f}'.format(stats.mannwhitneyu(sampleAFiltered, sampleBFiltered)[1]))\n",
    "print('Relative growth:', '{0:.3f}'.format(sampleBFiltered.mean()/sampleAFiltered.mean()-1))"
   ]
  },
  {
   "cell_type": "markdown",
   "metadata": {},
   "source": [
    "**Conclusion**: p-value is still less than 0.05, statistical significance has been achieved.\n",
    "\n",
    "The relative growth of group B increased from 16% to almost 19%, it means segment B is better than A. \n",
    "\n",
    "Let's see if there have been any changes in the average check."
   ]
  },
  {
   "cell_type": "code",
   "execution_count": 54,
   "metadata": {},
   "outputs": [
    {
     "name": "stdout",
     "output_type": "stream",
     "text": [
      "P-value: 0.788\n",
      "Relative difference in average check: -0.032\n"
     ]
    }
   ],
   "source": [
    "print('P-value:', '{0:.3f}'.format(\n",
    "        stats.mannwhitneyu(\n",
    "            orders[\n",
    "                np.logical_and(\n",
    "                    orders['group'] == 'A',\n",
    "                    np.logical_not(orders['visitorId'].isin(abnormalUsers)),\n",
    "                )\n",
    "            ]['revenue'],\n",
    "            orders[\n",
    "                np.logical_and(\n",
    "                    orders['group'] == 'B',\n",
    "                    np.logical_not(orders['visitorId'].isin(abnormalUsers)),\n",
    "                )\n",
    "            ]['revenue'],\n",
    "        )[1]\n",
    "    )\n",
    ")\n",
    "\n",
    "print('Relative difference in average check:', \"{0:.3f}\".format(\n",
    "        orders[\n",
    "            np.logical_and(\n",
    "                orders['group'] == 'B',\n",
    "                np.logical_not(orders['visitorId'].isin(abnormalUsers)),\n",
    "            )\n",
    "        ]['revenue'].mean()\n",
    "        / orders[\n",
    "            np.logical_and(\n",
    "                orders['group'] == 'A',\n",
    "                np.logical_not(orders['visitorId'].isin(abnormalUsers)),\n",
    "            )\n",
    "        ]['revenue'].mean()\n",
    "        - 1\n",
    "    )\n",
    ")"
   ]
  },
  {
   "cell_type": "markdown",
   "metadata": {},
   "source": [
    "**Conclusion**: P-value is still significantly greater than 0.05. This means that we still cannot reject the null hypothesis and cannot assume that there are differences in the average check between groups.\n",
    "\n",
    "However, we can notice that the difference between the segments in terms of the average bill has changed significantly. Earlier group B was in the lead and was higher than group A by almost 26%, but now group B, on the contrary, “lags behind” by 3%, that is, there was a decrease of almost 31% , due to the fact that we removed anomalous users with very large checks."
   ]
  },
  {
   "cell_type": "markdown",
   "metadata": {},
   "source": [
    "## Decision making and general conclusion"
   ]
  },
  {
   "cell_type": "markdown",
   "metadata": {},
   "source": [
    "\n",
    "We completed a business decision project and conducted an A/B test analysis in which we checked the cumulative revenue and average check by group, as well as the cumulative conversion.\n",
    "\n",
    "Additionally the 95th and 99th percentiles of the number and cost of orders were found in order to further determine the statistical significance of the differences in the \"raw\" and \"cleared\" data from anomalies.\n",
    "\n",
    "We know the next facts:\n",
    "\n",
    "\n",
    "1. both analyzes of statistical significance for the number of orders, both in the \"raw\" data and in the \"cleaned\" data, indicate that we should accept the alternative hypothesis of differences between groups. P-value for both types of data is approximately the same;\n",
    "\n",
    "\n",
    "2. similarly, both analyzes of the statistical significance of the difference in the average check do not allow us to reject the null hypothesis that there is no difference in the average check between groups. The p-value does not differ between \"raw\" and \"cleared\" data;\n",
    "\n",
    "\n",
    "3. The chart of the difference in the average number of orders between groups reports that the results of group B are significantly better than group A."
   ]
  },
  {
   "cell_type": "markdown",
   "metadata": {},
   "source": [
    "4. The chart of the difference in the average check fluctuates, and also shows that the results of group B showed some sharp positive spikes, but are starting to decline."
   ]
  },
  {
   "cell_type": "markdown",
   "metadata": {},
   "source": [
    "\n",
    "5. The relative difference in the average check between the groups according to the \"cleaned\" data proves that the indicators of group B do not exceed group A, and even lower by 3%. Compared to the \"raw\" data, we found a negative difference between groups of 31% - so strongly influenced by abnormal users with very high checks that did not allow for an adequate assessment."
   ]
  },
  {
   "cell_type": "markdown",
   "metadata": {},
   "source": [
    "**Conclusion**: Based on the available data, we can recommend to stop the test, group B is recognized as more successful in terms of the average number of orders."
   ]
  }
 ],
 "metadata": {
  "ExecuteTimeLog": [
   {
    "duration": 1278,
    "start_time": "2023-05-11T06:52:25.568Z"
   },
   {
    "duration": 243,
    "start_time": "2023-05-11T06:55:34.122Z"
   },
   {
    "duration": 28,
    "start_time": "2023-05-11T06:56:34.941Z"
   },
   {
    "duration": 17,
    "start_time": "2023-05-11T07:00:51.032Z"
   },
   {
    "duration": 13,
    "start_time": "2023-05-11T07:02:23.230Z"
   },
   {
    "duration": 11,
    "start_time": "2023-05-11T07:06:54.812Z"
   },
   {
    "duration": 505,
    "start_time": "2023-05-11T07:13:16.020Z"
   },
   {
    "duration": 4,
    "start_time": "2023-05-11T07:13:45.030Z"
   },
   {
    "duration": 60,
    "start_time": "2023-05-11T07:13:46.856Z"
   },
   {
    "duration": 23,
    "start_time": "2023-05-11T07:13:48.907Z"
   },
   {
    "duration": 17,
    "start_time": "2023-05-11T07:13:53.454Z"
   },
   {
    "duration": 13,
    "start_time": "2023-05-11T07:14:00.165Z"
   },
   {
    "duration": 7,
    "start_time": "2023-05-11T07:14:08.867Z"
   },
   {
    "duration": 7,
    "start_time": "2023-05-11T07:19:07.864Z"
   },
   {
    "duration": 7,
    "start_time": "2023-05-11T07:19:14.105Z"
   },
   {
    "duration": 5,
    "start_time": "2023-05-11T07:20:33.875Z"
   },
   {
    "duration": 6,
    "start_time": "2023-05-11T07:23:35.986Z"
   },
   {
    "duration": 9,
    "start_time": "2023-05-11T07:24:04.665Z"
   },
   {
    "duration": 9,
    "start_time": "2023-05-11T07:25:40.959Z"
   },
   {
    "duration": 8,
    "start_time": "2023-05-11T07:25:57.704Z"
   },
   {
    "duration": 9,
    "start_time": "2023-05-11T07:26:16.877Z"
   },
   {
    "duration": 8,
    "start_time": "2023-05-11T07:26:29.143Z"
   },
   {
    "duration": 6,
    "start_time": "2023-05-11T07:27:05.487Z"
   },
   {
    "duration": 43,
    "start_time": "2023-05-11T07:56:52.691Z"
   },
   {
    "duration": 11,
    "start_time": "2023-05-11T07:57:08.207Z"
   },
   {
    "duration": 11,
    "start_time": "2023-05-11T08:05:42.371Z"
   },
   {
    "duration": 1293,
    "start_time": "2023-05-12T06:43:30.055Z"
   },
   {
    "duration": 172,
    "start_time": "2023-05-12T06:43:33.297Z"
   },
   {
    "duration": 31,
    "start_time": "2023-05-12T06:43:35.349Z"
   },
   {
    "duration": 21,
    "start_time": "2023-05-12T06:43:39.049Z"
   },
   {
    "duration": 14,
    "start_time": "2023-05-12T06:43:42.315Z"
   },
   {
    "duration": 7,
    "start_time": "2023-05-12T06:43:47.991Z"
   },
   {
    "duration": 7,
    "start_time": "2023-05-12T06:43:49.232Z"
   },
   {
    "duration": 4,
    "start_time": "2023-05-12T06:43:50.736Z"
   },
   {
    "duration": 12,
    "start_time": "2023-05-12T06:43:54.284Z"
   },
   {
    "duration": 8,
    "start_time": "2023-05-12T06:43:56.181Z"
   },
   {
    "duration": 7,
    "start_time": "2023-05-12T06:43:59.567Z"
   },
   {
    "duration": 12,
    "start_time": "2023-05-12T06:44:03.229Z"
   },
   {
    "duration": 13,
    "start_time": "2023-05-12T06:44:06.159Z"
   },
   {
    "duration": 15,
    "start_time": "2023-05-12T07:14:41.999Z"
   },
   {
    "duration": 7,
    "start_time": "2023-05-12T07:17:03.839Z"
   },
   {
    "duration": 94,
    "start_time": "2023-05-12T07:18:11.768Z"
   },
   {
    "duration": 30,
    "start_time": "2023-05-12T07:22:45.244Z"
   },
   {
    "duration": 187,
    "start_time": "2023-05-12T07:23:03.943Z"
   },
   {
    "duration": 251,
    "start_time": "2023-05-12T07:23:35.710Z"
   },
   {
    "duration": 196,
    "start_time": "2023-05-12T07:23:53.705Z"
   },
   {
    "duration": 124,
    "start_time": "2023-05-12T07:27:49.847Z"
   },
   {
    "duration": 13,
    "start_time": "2023-05-12T07:29:53.379Z"
   },
   {
    "duration": 276,
    "start_time": "2023-05-12T07:31:36.780Z"
   },
   {
    "duration": 203,
    "start_time": "2023-05-12T07:33:24.693Z"
   },
   {
    "duration": 212,
    "start_time": "2023-05-12T07:33:40.125Z"
   },
   {
    "duration": 333,
    "start_time": "2023-05-12T07:35:22.911Z"
   },
   {
    "duration": 318,
    "start_time": "2023-05-12T07:35:39.511Z"
   },
   {
    "duration": 268,
    "start_time": "2023-05-12T07:36:05.799Z"
   },
   {
    "duration": 261,
    "start_time": "2023-05-12T07:36:17.351Z"
   },
   {
    "duration": 193,
    "start_time": "2023-05-12T07:42:25.252Z"
   },
   {
    "duration": 14,
    "start_time": "2023-05-12T07:46:57.190Z"
   },
   {
    "duration": 2,
    "start_time": "2023-05-12T07:47:19.354Z"
   },
   {
    "duration": 65,
    "start_time": "2023-05-12T07:47:20.605Z"
   },
   {
    "duration": 27,
    "start_time": "2023-05-12T07:47:21.627Z"
   },
   {
    "duration": 19,
    "start_time": "2023-05-12T07:47:24.834Z"
   },
   {
    "duration": 17,
    "start_time": "2023-05-12T07:47:27.432Z"
   },
   {
    "duration": 7,
    "start_time": "2023-05-12T07:47:29.768Z"
   },
   {
    "duration": 5,
    "start_time": "2023-05-12T07:47:30.786Z"
   },
   {
    "duration": 5,
    "start_time": "2023-05-12T07:47:31.774Z"
   },
   {
    "duration": 9,
    "start_time": "2023-05-12T07:47:34.138Z"
   },
   {
    "duration": 7,
    "start_time": "2023-05-12T07:47:35.412Z"
   },
   {
    "duration": 6,
    "start_time": "2023-05-12T07:47:38.683Z"
   },
   {
    "duration": 11,
    "start_time": "2023-05-12T07:47:42.000Z"
   },
   {
    "duration": 13,
    "start_time": "2023-05-12T07:47:44.682Z"
   },
   {
    "duration": 16,
    "start_time": "2023-05-12T07:47:47.558Z"
   },
   {
    "duration": 5,
    "start_time": "2023-05-12T07:47:50.170Z"
   },
   {
    "duration": 258,
    "start_time": "2023-05-12T07:47:55.674Z"
   },
   {
    "duration": 117,
    "start_time": "2023-05-12T07:47:57.192Z"
   },
   {
    "duration": 12,
    "start_time": "2023-05-12T07:47:59.234Z"
   },
   {
    "duration": 193,
    "start_time": "2023-05-12T07:48:02.130Z"
   },
   {
    "duration": 220,
    "start_time": "2023-05-12T07:48:05.398Z"
   },
   {
    "duration": 344,
    "start_time": "2023-05-12T07:51:28.242Z"
   },
   {
    "duration": 356,
    "start_time": "2023-05-12T07:52:07.063Z"
   },
   {
    "duration": 215,
    "start_time": "2023-05-12T08:15:27.788Z"
   },
   {
    "duration": 194,
    "start_time": "2023-05-12T08:16:08.068Z"
   },
   {
    "duration": 280,
    "start_time": "2023-05-12T08:16:41.504Z"
   },
   {
    "duration": 301,
    "start_time": "2023-05-12T08:16:48.008Z"
   },
   {
    "duration": 205,
    "start_time": "2023-05-12T08:17:08.512Z"
   },
   {
    "duration": 275,
    "start_time": "2023-05-12T08:17:47.451Z"
   },
   {
    "duration": 295,
    "start_time": "2023-05-12T08:18:47.801Z"
   },
   {
    "duration": 85,
    "start_time": "2023-05-12T08:27:32.550Z"
   },
   {
    "duration": 387,
    "start_time": "2023-05-12T08:28:08.630Z"
   },
   {
    "duration": 357,
    "start_time": "2023-05-12T08:28:24.854Z"
   },
   {
    "duration": 20,
    "start_time": "2023-05-12T08:34:33.774Z"
   },
   {
    "duration": 12,
    "start_time": "2023-05-12T08:40:24.091Z"
   },
   {
    "duration": 127,
    "start_time": "2023-05-12T08:42:16.393Z"
   },
   {
    "duration": 127,
    "start_time": "2023-05-12T08:43:22.915Z"
   },
   {
    "duration": 141,
    "start_time": "2023-05-12T08:43:34.084Z"
   },
   {
    "duration": 124,
    "start_time": "2023-05-12T08:43:38.415Z"
   },
   {
    "duration": 134,
    "start_time": "2023-05-12T08:44:12.282Z"
   },
   {
    "duration": 161,
    "start_time": "2023-05-12T08:44:26.271Z"
   },
   {
    "duration": 7,
    "start_time": "2023-05-12T08:46:30.377Z"
   },
   {
    "duration": 151,
    "start_time": "2023-05-12T08:56:39.103Z"
   },
   {
    "duration": 133,
    "start_time": "2023-05-12T08:56:57.903Z"
   },
   {
    "duration": 150,
    "start_time": "2023-05-12T08:57:03.374Z"
   },
   {
    "duration": 158,
    "start_time": "2023-05-12T08:57:07.938Z"
   },
   {
    "duration": 179,
    "start_time": "2023-05-12T08:57:21.368Z"
   },
   {
    "duration": 11,
    "start_time": "2023-05-12T08:57:55.119Z"
   },
   {
    "duration": 6,
    "start_time": "2023-05-12T08:57:59.909Z"
   },
   {
    "duration": 259,
    "start_time": "2023-05-12T09:00:23.840Z"
   },
   {
    "duration": 143,
    "start_time": "2023-05-12T09:00:41.413Z"
   },
   {
    "duration": 5,
    "start_time": "2023-05-12T09:00:46.303Z"
   },
   {
    "duration": 165,
    "start_time": "2023-05-12T09:00:48.351Z"
   },
   {
    "duration": 1279,
    "start_time": "2023-05-14T05:18:44.139Z"
   },
   {
    "duration": 2,
    "start_time": "2023-05-14T05:18:49.539Z"
   },
   {
    "duration": 222,
    "start_time": "2023-05-14T05:18:51.476Z"
   },
   {
    "duration": 34,
    "start_time": "2023-05-14T05:18:55.954Z"
   },
   {
    "duration": 19,
    "start_time": "2023-05-14T05:19:29.705Z"
   },
   {
    "duration": 22,
    "start_time": "2023-05-14T05:19:31.758Z"
   },
   {
    "duration": 7,
    "start_time": "2023-05-14T05:19:34.801Z"
   },
   {
    "duration": 6,
    "start_time": "2023-05-14T05:19:35.786Z"
   },
   {
    "duration": 4,
    "start_time": "2023-05-14T05:19:39.515Z"
   },
   {
    "duration": 9,
    "start_time": "2023-05-14T05:19:45.695Z"
   },
   {
    "duration": 7,
    "start_time": "2023-05-14T05:19:48.084Z"
   },
   {
    "duration": 7,
    "start_time": "2023-05-14T05:19:52.957Z"
   },
   {
    "duration": 11,
    "start_time": "2023-05-14T05:21:13.831Z"
   },
   {
    "duration": 14,
    "start_time": "2023-05-14T05:22:53.916Z"
   },
   {
    "duration": 19,
    "start_time": "2023-05-14T05:22:58.676Z"
   },
   {
    "duration": 19,
    "start_time": "2023-05-14T05:23:03.172Z"
   },
   {
    "duration": 6,
    "start_time": "2023-05-14T05:23:07.874Z"
   },
   {
    "duration": 181,
    "start_time": "2023-05-14T05:23:10.346Z"
   },
   {
    "duration": 153,
    "start_time": "2023-05-14T05:23:11.737Z"
   },
   {
    "duration": 17,
    "start_time": "2023-05-14T05:23:12.892Z"
   },
   {
    "duration": 327,
    "start_time": "2023-05-14T05:23:19.235Z"
   },
   {
    "duration": 195,
    "start_time": "2023-05-14T05:23:24.488Z"
   },
   {
    "duration": 414,
    "start_time": "2023-05-14T05:23:29.739Z"
   },
   {
    "duration": 312,
    "start_time": "2023-05-14T05:23:34.525Z"
   },
   {
    "duration": 325,
    "start_time": "2023-05-14T05:23:38.863Z"
   },
   {
    "duration": 10,
    "start_time": "2023-05-14T05:23:42.545Z"
   },
   {
    "duration": 20,
    "start_time": "2023-05-14T05:23:44.056Z"
   },
   {
    "duration": 143,
    "start_time": "2023-05-14T05:23:44.615Z"
   },
   {
    "duration": 6,
    "start_time": "2023-05-14T05:23:45.771Z"
   },
   {
    "duration": 160,
    "start_time": "2023-05-14T05:23:48.837Z"
   },
   {
    "duration": 5,
    "start_time": "2023-05-14T05:23:55.818Z"
   },
   {
    "duration": 12,
    "start_time": "2023-05-14T05:26:39.468Z"
   },
   {
    "duration": 112,
    "start_time": "2023-05-14T05:28:50.350Z"
   },
   {
    "duration": 63,
    "start_time": "2023-05-14T05:28:55.467Z"
   },
   {
    "duration": 69,
    "start_time": "2023-05-14T05:29:08.526Z"
   },
   {
    "duration": 171,
    "start_time": "2023-05-14T05:29:48.367Z"
   },
   {
    "duration": 81,
    "start_time": "2023-05-14T05:30:01.023Z"
   },
   {
    "duration": 92,
    "start_time": "2023-05-14T05:31:50.179Z"
   },
   {
    "duration": 110,
    "start_time": "2023-05-14T05:33:15.544Z"
   },
   {
    "duration": 41,
    "start_time": "2023-05-14T05:34:04.399Z"
   },
   {
    "duration": 238,
    "start_time": "2023-05-14T05:38:17.299Z"
   },
   {
    "duration": 8,
    "start_time": "2023-05-14T05:40:59.488Z"
   },
   {
    "duration": 28,
    "start_time": "2023-05-14T05:41:29.333Z"
   },
   {
    "duration": 13,
    "start_time": "2023-05-14T05:52:12.437Z"
   },
   {
    "duration": 1216,
    "start_time": "2023-05-14T12:15:57.463Z"
   },
   {
    "duration": 274,
    "start_time": "2023-05-14T12:15:59.564Z"
   },
   {
    "duration": 30,
    "start_time": "2023-05-14T12:16:00.961Z"
   },
   {
    "duration": 18,
    "start_time": "2023-05-14T12:16:03.770Z"
   },
   {
    "duration": 13,
    "start_time": "2023-05-14T12:16:05.025Z"
   },
   {
    "duration": 8,
    "start_time": "2023-05-14T12:16:06.960Z"
   },
   {
    "duration": 7,
    "start_time": "2023-05-14T12:16:07.824Z"
   },
   {
    "duration": 6,
    "start_time": "2023-05-14T12:16:08.673Z"
   },
   {
    "duration": 10,
    "start_time": "2023-05-14T12:16:10.664Z"
   },
   {
    "duration": 16,
    "start_time": "2023-05-14T12:16:11.811Z"
   },
   {
    "duration": 12,
    "start_time": "2023-05-14T12:16:12.812Z"
   },
   {
    "duration": 9,
    "start_time": "2023-05-14T12:16:13.760Z"
   },
   {
    "duration": 11,
    "start_time": "2023-05-14T12:16:18.923Z"
   },
   {
    "duration": 14,
    "start_time": "2023-05-14T12:16:23.116Z"
   },
   {
    "duration": 13,
    "start_time": "2023-05-14T12:16:35.743Z"
   },
   {
    "duration": 8,
    "start_time": "2023-05-14T12:16:37.688Z"
   },
   {
    "duration": 161,
    "start_time": "2023-05-14T12:16:40.164Z"
   },
   {
    "duration": 113,
    "start_time": "2023-05-14T12:16:41.343Z"
   },
   {
    "duration": 11,
    "start_time": "2023-05-14T12:16:43.579Z"
   },
   {
    "duration": 313,
    "start_time": "2023-05-14T12:16:45.922Z"
   },
   {
    "duration": 209,
    "start_time": "2023-05-14T12:16:48.328Z"
   },
   {
    "duration": 376,
    "start_time": "2023-05-14T12:16:52.764Z"
   },
   {
    "duration": 209,
    "start_time": "2023-05-14T12:16:57.514Z"
   },
   {
    "duration": 305,
    "start_time": "2023-05-14T12:17:01.728Z"
   },
   {
    "duration": 9,
    "start_time": "2023-05-14T12:17:04.869Z"
   },
   {
    "duration": 15,
    "start_time": "2023-05-14T12:17:06.627Z"
   },
   {
    "duration": 138,
    "start_time": "2023-05-14T12:17:07.421Z"
   },
   {
    "duration": 17,
    "start_time": "2023-05-14T12:17:08.809Z"
   },
   {
    "duration": 174,
    "start_time": "2023-05-14T12:17:11.480Z"
   },
   {
    "duration": 7,
    "start_time": "2023-05-14T12:17:13.464Z"
   },
   {
    "duration": 66,
    "start_time": "2023-05-14T12:17:14.669Z"
   },
   {
    "duration": 65,
    "start_time": "2023-05-14T12:17:15.216Z"
   },
   {
    "duration": 75,
    "start_time": "2023-05-14T12:17:16.073Z"
   },
   {
    "duration": 64,
    "start_time": "2023-05-14T12:17:16.328Z"
   },
   {
    "duration": 38,
    "start_time": "2023-05-14T12:17:16.605Z"
   },
   {
    "duration": 139,
    "start_time": "2023-05-14T12:17:18.673Z"
   },
   {
    "duration": 9,
    "start_time": "2023-05-14T12:17:19.930Z"
   },
   {
    "duration": 24,
    "start_time": "2023-05-14T12:17:20.973Z"
   },
   {
    "duration": 24,
    "start_time": "2023-05-14T12:17:24.803Z"
   },
   {
    "duration": 2974,
    "start_time": "2023-05-14T12:19:02.918Z"
   },
   {
    "duration": 13,
    "start_time": "2023-05-14T12:19:54.524Z"
   },
   {
    "duration": 3,
    "start_time": "2023-05-14T12:21:08.922Z"
   },
   {
    "duration": 86,
    "start_time": "2023-05-14T12:21:10.756Z"
   },
   {
    "duration": 25,
    "start_time": "2023-05-14T12:21:12.145Z"
   },
   {
    "duration": 16,
    "start_time": "2023-05-14T12:21:15.360Z"
   },
   {
    "duration": 13,
    "start_time": "2023-05-14T12:21:18.433Z"
   },
   {
    "duration": 7,
    "start_time": "2023-05-14T12:21:37.215Z"
   },
   {
    "duration": 18,
    "start_time": "2023-05-14T12:21:42.210Z"
   },
   {
    "duration": 4,
    "start_time": "2023-05-14T12:22:41.557Z"
   },
   {
    "duration": 19,
    "start_time": "2023-05-14T12:23:20.593Z"
   },
   {
    "duration": 6,
    "start_time": "2023-05-14T12:23:21.860Z"
   },
   {
    "duration": 5,
    "start_time": "2023-05-14T12:23:23.183Z"
   },
   {
    "duration": 9,
    "start_time": "2023-05-14T12:23:26.741Z"
   },
   {
    "duration": 7,
    "start_time": "2023-05-14T12:23:28.242Z"
   },
   {
    "duration": 3,
    "start_time": "2023-05-14T12:23:55.136Z"
   },
   {
    "duration": 68,
    "start_time": "2023-05-14T12:23:57.125Z"
   },
   {
    "duration": 24,
    "start_time": "2023-05-14T12:23:58.960Z"
   },
   {
    "duration": 42,
    "start_time": "2023-05-14T12:24:01.992Z"
   },
   {
    "duration": 20,
    "start_time": "2023-05-14T12:24:05.018Z"
   },
   {
    "duration": 5,
    "start_time": "2023-05-14T12:24:44.132Z"
   },
   {
    "duration": 6,
    "start_time": "2023-05-14T12:24:45.948Z"
   },
   {
    "duration": 6,
    "start_time": "2023-05-14T12:24:47.135Z"
   },
   {
    "duration": 5,
    "start_time": "2023-05-14T12:24:48.816Z"
   },
   {
    "duration": 8,
    "start_time": "2023-05-14T12:24:51.422Z"
   },
   {
    "duration": 7,
    "start_time": "2023-05-14T12:24:52.833Z"
   },
   {
    "duration": 8,
    "start_time": "2023-05-14T12:24:56.022Z"
   },
   {
    "duration": 9,
    "start_time": "2023-05-14T12:24:57.462Z"
   },
   {
    "duration": 14,
    "start_time": "2023-05-14T12:25:01.828Z"
   },
   {
    "duration": 14,
    "start_time": "2023-05-14T12:25:06.858Z"
   },
   {
    "duration": 13,
    "start_time": "2023-05-14T12:25:10.161Z"
   },
   {
    "duration": 6,
    "start_time": "2023-05-14T12:25:12.923Z"
   },
   {
    "duration": 163,
    "start_time": "2023-05-14T12:25:15.560Z"
   },
   {
    "duration": 119,
    "start_time": "2023-05-14T12:25:17.070Z"
   },
   {
    "duration": 12,
    "start_time": "2023-05-14T12:25:18.953Z"
   },
   {
    "duration": 251,
    "start_time": "2023-05-14T12:25:21.425Z"
   },
   {
    "duration": 189,
    "start_time": "2023-05-14T12:25:24.558Z"
   },
   {
    "duration": 296,
    "start_time": "2023-05-14T12:25:27.613Z"
   },
   {
    "duration": 223,
    "start_time": "2023-05-14T12:25:30.932Z"
   },
   {
    "duration": 327,
    "start_time": "2023-05-14T12:25:34.736Z"
   },
   {
    "duration": 13,
    "start_time": "2023-05-14T12:25:40.023Z"
   },
   {
    "duration": 16,
    "start_time": "2023-05-14T12:25:42.460Z"
   },
   {
    "duration": 143,
    "start_time": "2023-05-14T12:25:45.037Z"
   },
   {
    "duration": 6,
    "start_time": "2023-05-14T12:25:47.423Z"
   },
   {
    "duration": 142,
    "start_time": "2023-05-14T12:25:49.821Z"
   },
   {
    "duration": 5,
    "start_time": "2023-05-14T12:25:52.424Z"
   },
   {
    "duration": 60,
    "start_time": "2023-05-14T12:25:54.865Z"
   },
   {
    "duration": 55,
    "start_time": "2023-05-14T12:25:57.593Z"
   },
   {
    "duration": 74,
    "start_time": "2023-05-14T12:26:00.945Z"
   },
   {
    "duration": 61,
    "start_time": "2023-05-14T12:26:04.016Z"
   },
   {
    "duration": 26,
    "start_time": "2023-05-14T12:26:07.756Z"
   },
   {
    "duration": 177,
    "start_time": "2023-05-14T12:26:10.561Z"
   },
   {
    "duration": 8,
    "start_time": "2023-05-14T12:26:12.927Z"
   },
   {
    "duration": 29,
    "start_time": "2023-05-14T12:26:15.121Z"
   },
   {
    "duration": 12,
    "start_time": "2023-05-14T12:26:18.429Z"
   },
   {
    "duration": 11,
    "start_time": "2023-05-14T12:26:22.148Z"
   },
   {
    "duration": 11,
    "start_time": "2023-05-14T12:27:08.934Z"
   },
   {
    "duration": 256,
    "start_time": "2023-05-14T12:27:28.723Z"
   },
   {
    "duration": 20,
    "start_time": "2023-05-14T12:27:36.510Z"
   },
   {
    "duration": 11,
    "start_time": "2023-05-14T12:27:42.060Z"
   },
   {
    "duration": 25,
    "start_time": "2023-05-14T12:30:14.496Z"
   },
   {
    "duration": 29,
    "start_time": "2023-05-14T12:30:56.460Z"
   },
   {
    "duration": 14,
    "start_time": "2023-05-14T12:38:38.979Z"
   },
   {
    "duration": 1359,
    "start_time": "2023-05-14T16:04:25.750Z"
   },
   {
    "duration": 148,
    "start_time": "2023-05-14T16:04:27.115Z"
   },
   {
    "duration": 38,
    "start_time": "2023-05-14T16:04:27.265Z"
   },
   {
    "duration": 47,
    "start_time": "2023-05-14T16:04:27.304Z"
   },
   {
    "duration": 39,
    "start_time": "2023-05-14T16:04:27.353Z"
   },
   {
    "duration": 70,
    "start_time": "2023-05-14T16:04:27.393Z"
   },
   {
    "duration": 8,
    "start_time": "2023-05-14T16:04:27.464Z"
   },
   {
    "duration": 5,
    "start_time": "2023-05-14T16:04:27.474Z"
   },
   {
    "duration": 33,
    "start_time": "2023-05-14T16:04:27.481Z"
   },
   {
    "duration": 62,
    "start_time": "2023-05-14T16:04:27.517Z"
   },
   {
    "duration": 18,
    "start_time": "2023-05-14T16:04:27.581Z"
   },
   {
    "duration": 71,
    "start_time": "2023-05-14T16:04:27.600Z"
   },
   {
    "duration": 23,
    "start_time": "2023-05-14T16:04:27.672Z"
   },
   {
    "duration": 34,
    "start_time": "2023-05-14T16:04:27.698Z"
   },
   {
    "duration": 37,
    "start_time": "2023-05-14T16:04:27.735Z"
   },
   {
    "duration": 27,
    "start_time": "2023-05-14T16:04:27.773Z"
   },
   {
    "duration": 52,
    "start_time": "2023-05-14T16:04:27.809Z"
   },
   {
    "duration": 170,
    "start_time": "2023-05-14T16:04:27.863Z"
   },
   {
    "duration": 110,
    "start_time": "2023-05-14T16:04:28.035Z"
   },
   {
    "duration": 11,
    "start_time": "2023-05-14T16:04:28.148Z"
   },
   {
    "duration": 303,
    "start_time": "2023-05-14T16:04:28.160Z"
   },
   {
    "duration": 245,
    "start_time": "2023-05-14T16:04:28.469Z"
   },
   {
    "duration": 359,
    "start_time": "2023-05-14T16:04:28.724Z"
   },
   {
    "duration": 245,
    "start_time": "2023-05-14T16:04:29.084Z"
   },
   {
    "duration": 315,
    "start_time": "2023-05-14T16:04:29.334Z"
   },
   {
    "duration": 25,
    "start_time": "2023-05-14T16:04:29.652Z"
   },
   {
    "duration": 30,
    "start_time": "2023-05-14T16:04:29.679Z"
   },
   {
    "duration": 254,
    "start_time": "2023-05-14T16:04:29.722Z"
   },
   {
    "duration": 8,
    "start_time": "2023-05-14T16:04:29.978Z"
   },
   {
    "duration": 257,
    "start_time": "2023-05-14T16:04:29.997Z"
   },
   {
    "duration": 6,
    "start_time": "2023-05-14T16:04:30.259Z"
   },
   {
    "duration": 158,
    "start_time": "2023-05-14T16:04:30.266Z"
   },
   {
    "duration": 202,
    "start_time": "2023-05-14T16:04:30.426Z"
   },
   {
    "duration": 121,
    "start_time": "2023-05-14T16:04:30.629Z"
   },
   {
    "duration": 109,
    "start_time": "2023-05-14T16:04:30.751Z"
   },
   {
    "duration": 117,
    "start_time": "2023-05-14T16:04:30.862Z"
   },
   {
    "duration": 180,
    "start_time": "2023-05-14T16:04:30.980Z"
   },
   {
    "duration": 5,
    "start_time": "2023-05-14T16:04:31.162Z"
   },
   {
    "duration": 101,
    "start_time": "2023-05-14T16:04:31.169Z"
   },
   {
    "duration": 95,
    "start_time": "2023-05-14T16:04:31.271Z"
   },
   {
    "duration": 31,
    "start_time": "2023-05-14T16:04:31.368Z"
   },
   {
    "duration": 68,
    "start_time": "2023-05-14T16:04:31.401Z"
   },
   {
    "duration": 68,
    "start_time": "2023-05-14T16:04:31.471Z"
   },
   {
    "duration": 20,
    "start_time": "2023-05-14T16:04:31.541Z"
   },
   {
    "duration": 1528,
    "start_time": "2023-05-14T16:04:55.646Z"
   },
   {
    "duration": 151,
    "start_time": "2023-05-14T16:04:57.175Z"
   },
   {
    "duration": 54,
    "start_time": "2023-05-14T16:04:57.328Z"
   },
   {
    "duration": 91,
    "start_time": "2023-05-14T16:04:57.389Z"
   },
   {
    "duration": 46,
    "start_time": "2023-05-14T16:04:57.482Z"
   },
   {
    "duration": 139,
    "start_time": "2023-05-14T16:04:57.530Z"
   },
   {
    "duration": 9,
    "start_time": "2023-05-14T16:04:57.671Z"
   },
   {
    "duration": 109,
    "start_time": "2023-05-14T16:04:57.681Z"
   },
   {
    "duration": 70,
    "start_time": "2023-05-14T16:04:57.797Z"
   },
   {
    "duration": 67,
    "start_time": "2023-05-14T16:04:57.870Z"
   },
   {
    "duration": 82,
    "start_time": "2023-05-14T16:04:57.940Z"
   },
   {
    "duration": 60,
    "start_time": "2023-05-14T16:04:58.023Z"
   },
   {
    "duration": 110,
    "start_time": "2023-05-14T16:04:58.085Z"
   },
   {
    "duration": 42,
    "start_time": "2023-05-14T16:04:58.197Z"
   },
   {
    "duration": 42,
    "start_time": "2023-05-14T16:04:58.241Z"
   },
   {
    "duration": 114,
    "start_time": "2023-05-14T16:04:58.284Z"
   },
   {
    "duration": 60,
    "start_time": "2023-05-14T16:04:58.407Z"
   },
   {
    "duration": 234,
    "start_time": "2023-05-14T16:04:58.469Z"
   },
   {
    "duration": 149,
    "start_time": "2023-05-14T16:04:58.705Z"
   },
   {
    "duration": 20,
    "start_time": "2023-05-14T16:04:58.858Z"
   },
   {
    "duration": 581,
    "start_time": "2023-05-14T16:04:58.883Z"
   },
   {
    "duration": 240,
    "start_time": "2023-05-14T16:04:59.469Z"
   },
   {
    "duration": 339,
    "start_time": "2023-05-14T16:04:59.713Z"
   },
   {
    "duration": 245,
    "start_time": "2023-05-14T16:05:00.060Z"
   },
   {
    "duration": 356,
    "start_time": "2023-05-14T16:05:00.310Z"
   },
   {
    "duration": 11,
    "start_time": "2023-05-14T16:05:00.668Z"
   },
   {
    "duration": 112,
    "start_time": "2023-05-14T16:05:00.682Z"
   },
   {
    "duration": 290,
    "start_time": "2023-05-14T16:05:00.797Z"
   },
   {
    "duration": 11,
    "start_time": "2023-05-14T16:05:01.106Z"
   },
   {
    "duration": 278,
    "start_time": "2023-05-14T16:05:01.119Z"
   },
   {
    "duration": 8,
    "start_time": "2023-05-14T16:05:01.401Z"
   },
   {
    "duration": 250,
    "start_time": "2023-05-14T16:05:01.411Z"
   },
   {
    "duration": 270,
    "start_time": "2023-05-14T16:05:01.668Z"
   },
   {
    "duration": 168,
    "start_time": "2023-05-14T16:05:01.942Z"
   },
   {
    "duration": 84,
    "start_time": "2023-05-14T16:05:02.114Z"
   },
   {
    "duration": 220,
    "start_time": "2023-05-14T16:05:02.202Z"
   },
   {
    "duration": 243,
    "start_time": "2023-05-14T16:05:02.427Z"
   },
   {
    "duration": 21,
    "start_time": "2023-05-14T16:05:02.672Z"
   },
   {
    "duration": 81,
    "start_time": "2023-05-14T16:05:02.694Z"
   },
   {
    "duration": 17,
    "start_time": "2023-05-14T16:05:02.776Z"
   },
   {
    "duration": 89,
    "start_time": "2023-05-14T16:05:02.794Z"
   },
   {
    "duration": 76,
    "start_time": "2023-05-14T16:05:02.884Z"
   },
   {
    "duration": 64,
    "start_time": "2023-05-14T16:05:02.961Z"
   },
   {
    "duration": 37,
    "start_time": "2023-05-14T16:05:03.026Z"
   },
   {
    "duration": 1361,
    "start_time": "2023-05-14T16:05:37.477Z"
   },
   {
    "duration": 130,
    "start_time": "2023-05-14T16:05:38.839Z"
   },
   {
    "duration": 33,
    "start_time": "2023-05-14T16:05:38.971Z"
   },
   {
    "duration": 105,
    "start_time": "2023-05-14T16:05:39.006Z"
   },
   {
    "duration": 28,
    "start_time": "2023-05-14T16:05:39.116Z"
   },
   {
    "duration": 35,
    "start_time": "2023-05-14T16:05:39.146Z"
   },
   {
    "duration": 69,
    "start_time": "2023-05-14T16:05:39.183Z"
   },
   {
    "duration": 7,
    "start_time": "2023-05-14T16:05:39.254Z"
   },
   {
    "duration": 9,
    "start_time": "2023-05-14T16:05:39.263Z"
   },
   {
    "duration": 66,
    "start_time": "2023-05-14T16:05:39.274Z"
   },
   {
    "duration": 29,
    "start_time": "2023-05-14T16:05:39.347Z"
   },
   {
    "duration": 77,
    "start_time": "2023-05-14T16:05:39.378Z"
   },
   {
    "duration": 19,
    "start_time": "2023-05-14T16:05:39.457Z"
   },
   {
    "duration": 20,
    "start_time": "2023-05-14T16:05:39.478Z"
   },
   {
    "duration": 67,
    "start_time": "2023-05-14T16:05:39.500Z"
   },
   {
    "duration": 35,
    "start_time": "2023-05-14T16:05:39.569Z"
   },
   {
    "duration": 49,
    "start_time": "2023-05-14T16:05:39.605Z"
   },
   {
    "duration": 202,
    "start_time": "2023-05-14T16:05:39.656Z"
   },
   {
    "duration": 127,
    "start_time": "2023-05-14T16:05:39.859Z"
   },
   {
    "duration": 11,
    "start_time": "2023-05-14T16:05:39.988Z"
   },
   {
    "duration": 493,
    "start_time": "2023-05-14T16:05:40.001Z"
   },
   {
    "duration": 251,
    "start_time": "2023-05-14T16:05:40.498Z"
   },
   {
    "duration": 311,
    "start_time": "2023-05-14T16:05:40.751Z"
   },
   {
    "duration": 262,
    "start_time": "2023-05-14T16:05:41.064Z"
   },
   {
    "duration": 298,
    "start_time": "2023-05-14T16:05:41.327Z"
   },
   {
    "duration": 17,
    "start_time": "2023-05-14T16:05:41.629Z"
   },
   {
    "duration": 23,
    "start_time": "2023-05-14T16:05:41.647Z"
   },
   {
    "duration": 160,
    "start_time": "2023-05-14T16:05:41.674Z"
   },
   {
    "duration": 9,
    "start_time": "2023-05-14T16:05:41.840Z"
   },
   {
    "duration": 194,
    "start_time": "2023-05-14T16:05:41.851Z"
   },
   {
    "duration": 4,
    "start_time": "2023-05-14T16:05:42.046Z"
   },
   {
    "duration": 108,
    "start_time": "2023-05-14T16:05:42.052Z"
   },
   {
    "duration": 63,
    "start_time": "2023-05-14T16:05:42.162Z"
   },
   {
    "duration": 144,
    "start_time": "2023-05-14T16:05:42.226Z"
   },
   {
    "duration": 89,
    "start_time": "2023-05-14T16:05:42.371Z"
   },
   {
    "duration": 47,
    "start_time": "2023-05-14T16:05:42.461Z"
   },
   {
    "duration": 161,
    "start_time": "2023-05-14T16:05:42.510Z"
   },
   {
    "duration": 6,
    "start_time": "2023-05-14T16:05:42.673Z"
   },
   {
    "duration": 98,
    "start_time": "2023-05-14T16:05:42.681Z"
   },
   {
    "duration": 31,
    "start_time": "2023-05-14T16:05:42.780Z"
   },
   {
    "duration": 59,
    "start_time": "2023-05-14T16:05:42.812Z"
   },
   {
    "duration": 10,
    "start_time": "2023-05-14T16:05:42.873Z"
   },
   {
    "duration": 89,
    "start_time": "2023-05-14T16:05:42.887Z"
   },
   {
    "duration": 20,
    "start_time": "2023-05-14T16:05:42.977Z"
   },
   {
    "duration": 2077,
    "start_time": "2023-05-15T07:00:55.305Z"
   },
   {
    "duration": 278,
    "start_time": "2023-05-15T07:01:00.122Z"
   },
   {
    "duration": 55,
    "start_time": "2023-05-15T07:01:01.749Z"
   },
   {
    "duration": 38,
    "start_time": "2023-05-15T07:01:04.555Z"
   },
   {
    "duration": 32,
    "start_time": "2023-05-15T07:01:07.692Z"
   },
   {
    "duration": 6,
    "start_time": "2023-05-15T07:01:10.358Z"
   },
   {
    "duration": 11,
    "start_time": "2023-05-15T07:01:11.619Z"
   },
   {
    "duration": 10,
    "start_time": "2023-05-15T07:01:12.902Z"
   },
   {
    "duration": 7,
    "start_time": "2023-05-15T07:01:14.098Z"
   },
   {
    "duration": 11,
    "start_time": "2023-05-15T07:01:16.751Z"
   },
   {
    "duration": 12,
    "start_time": "2023-05-15T07:01:18.410Z"
   },
   {
    "duration": 9,
    "start_time": "2023-05-15T07:01:21.226Z"
   },
   {
    "duration": 18,
    "start_time": "2023-05-15T07:01:23.396Z"
   },
   {
    "duration": 9,
    "start_time": "2023-05-15T07:08:29.040Z"
   },
   {
    "duration": 9,
    "start_time": "2023-05-15T07:21:28.209Z"
   },
   {
    "duration": 75,
    "start_time": "2023-05-15T07:22:10.240Z"
   },
   {
    "duration": 10,
    "start_time": "2023-05-15T07:22:21.448Z"
   },
   {
    "duration": 7,
    "start_time": "2023-05-15T07:23:57.598Z"
   },
   {
    "duration": 11,
    "start_time": "2023-05-15T07:24:02.995Z"
   },
   {
    "duration": 117,
    "start_time": "2023-05-15T07:24:17.314Z"
   },
   {
    "duration": 10,
    "start_time": "2023-05-15T07:24:58.516Z"
   },
   {
    "duration": 22,
    "start_time": "2023-05-15T07:26:20.219Z"
   },
   {
    "duration": 21,
    "start_time": "2023-05-15T07:27:33.296Z"
   },
   {
    "duration": 17,
    "start_time": "2023-05-15T07:27:39.612Z"
   },
   {
    "duration": 17,
    "start_time": "2023-05-15T07:28:46.649Z"
   },
   {
    "duration": 17,
    "start_time": "2023-05-15T07:28:50.208Z"
   },
   {
    "duration": 21,
    "start_time": "2023-05-15T07:34:38.020Z"
   },
   {
    "duration": 10,
    "start_time": "2023-05-15T07:37:58.651Z"
   },
   {
    "duration": 22,
    "start_time": "2023-05-15T07:38:02.213Z"
   },
   {
    "duration": 28,
    "start_time": "2023-05-15T07:38:33.219Z"
   },
   {
    "duration": 18,
    "start_time": "2023-05-15T07:38:38.218Z"
   },
   {
    "duration": 28,
    "start_time": "2023-05-15T07:38:52.993Z"
   },
   {
    "duration": 14,
    "start_time": "2023-05-15T07:39:07.117Z"
   },
   {
    "duration": 27,
    "start_time": "2023-05-15T07:42:37.055Z"
   },
   {
    "duration": 6,
    "start_time": "2023-05-15T07:42:58.834Z"
   },
   {
    "duration": 11,
    "start_time": "2023-05-15T07:43:02.923Z"
   },
   {
    "duration": 23,
    "start_time": "2023-05-15T07:43:19.194Z"
   },
   {
    "duration": 17,
    "start_time": "2023-05-15T07:43:25.946Z"
   },
   {
    "duration": 9,
    "start_time": "2023-05-15T07:43:53.799Z"
   },
   {
    "duration": 4,
    "start_time": "2023-05-15T07:45:58.355Z"
   },
   {
    "duration": 117,
    "start_time": "2023-05-15T07:46:00.299Z"
   },
   {
    "duration": 47,
    "start_time": "2023-05-15T07:46:01.443Z"
   },
   {
    "duration": 30,
    "start_time": "2023-05-15T07:46:04.816Z"
   },
   {
    "duration": 17,
    "start_time": "2023-05-15T07:46:07.312Z"
   },
   {
    "duration": 7,
    "start_time": "2023-05-15T07:46:09.948Z"
   },
   {
    "duration": 10,
    "start_time": "2023-05-15T07:46:11.043Z"
   },
   {
    "duration": 9,
    "start_time": "2023-05-15T07:46:12.147Z"
   },
   {
    "duration": 23,
    "start_time": "2023-05-15T07:46:13.372Z"
   },
   {
    "duration": 45,
    "start_time": "2023-05-15T07:46:15.873Z"
   },
   {
    "duration": 19,
    "start_time": "2023-05-15T07:46:17.191Z"
   },
   {
    "duration": 14,
    "start_time": "2023-05-15T07:46:20.101Z"
   },
   {
    "duration": 23,
    "start_time": "2023-05-15T07:46:21.701Z"
   },
   {
    "duration": 16,
    "start_time": "2023-05-15T07:46:26.521Z"
   },
   {
    "duration": 12,
    "start_time": "2023-05-15T07:46:45.220Z"
   },
   {
    "duration": 25,
    "start_time": "2023-05-15T07:47:06.205Z"
   },
   {
    "duration": 20,
    "start_time": "2023-05-15T07:47:09.181Z"
   },
   {
    "duration": 14,
    "start_time": "2023-05-15T07:47:20.301Z"
   },
   {
    "duration": 114,
    "start_time": "2023-05-15T07:47:22.129Z"
   },
   {
    "duration": 48,
    "start_time": "2023-05-15T07:47:23.696Z"
   },
   {
    "duration": 40,
    "start_time": "2023-05-15T07:47:26.695Z"
   },
   {
    "duration": 44,
    "start_time": "2023-05-15T07:47:29.260Z"
   },
   {
    "duration": 7,
    "start_time": "2023-05-15T07:47:31.846Z"
   },
   {
    "duration": 13,
    "start_time": "2023-05-15T07:47:32.915Z"
   },
   {
    "duration": 8,
    "start_time": "2023-05-15T07:47:34.045Z"
   },
   {
    "duration": 13,
    "start_time": "2023-05-15T07:47:35.204Z"
   },
   {
    "duration": 40,
    "start_time": "2023-05-15T07:47:37.693Z"
   },
   {
    "duration": 11,
    "start_time": "2023-05-15T07:47:39.043Z"
   },
   {
    "duration": 12,
    "start_time": "2023-05-15T07:47:42.097Z"
   },
   {
    "duration": 18,
    "start_time": "2023-05-15T07:47:44.322Z"
   },
   {
    "duration": 19,
    "start_time": "2023-05-15T07:47:46.809Z"
   },
   {
    "duration": 13,
    "start_time": "2023-05-15T07:47:48.296Z"
   },
   {
    "duration": 20,
    "start_time": "2023-05-15T07:48:06.544Z"
   },
   {
    "duration": 9,
    "start_time": "2023-05-15T07:48:23.050Z"
   },
   {
    "duration": 8,
    "start_time": "2023-05-15T07:50:22.199Z"
   },
   {
    "duration": 109,
    "start_time": "2023-05-15T07:50:23.950Z"
   },
   {
    "duration": 42,
    "start_time": "2023-05-15T07:50:25.155Z"
   },
   {
    "duration": 42,
    "start_time": "2023-05-15T07:50:27.900Z"
   },
   {
    "duration": 24,
    "start_time": "2023-05-15T07:50:30.657Z"
   },
   {
    "duration": 7,
    "start_time": "2023-05-15T07:50:33.048Z"
   },
   {
    "duration": 9,
    "start_time": "2023-05-15T07:50:34.259Z"
   },
   {
    "duration": 11,
    "start_time": "2023-05-15T07:50:35.805Z"
   },
   {
    "duration": 7,
    "start_time": "2023-05-15T07:50:36.843Z"
   },
   {
    "duration": 13,
    "start_time": "2023-05-15T07:50:39.146Z"
   },
   {
    "duration": 27,
    "start_time": "2023-05-15T07:50:40.492Z"
   },
   {
    "duration": 16,
    "start_time": "2023-05-15T07:50:43.913Z"
   },
   {
    "duration": 19,
    "start_time": "2023-05-15T07:50:46.722Z"
   },
   {
    "duration": 11,
    "start_time": "2023-05-15T07:50:49.522Z"
   },
   {
    "duration": 16,
    "start_time": "2023-05-15T07:51:25.103Z"
   },
   {
    "duration": 14,
    "start_time": "2023-05-15T07:53:30.793Z"
   },
   {
    "duration": 18,
    "start_time": "2023-05-15T07:53:40.881Z"
   },
   {
    "duration": 42,
    "start_time": "2023-05-15T07:53:51.757Z"
   },
   {
    "duration": 6748,
    "start_time": "2023-05-15T07:54:53.671Z"
   },
   {
    "duration": 0,
    "start_time": "2023-05-15T07:55:00.440Z"
   },
   {
    "duration": 7,
    "start_time": "2023-05-15T07:55:06.507Z"
   },
   {
    "duration": 109,
    "start_time": "2023-05-15T07:55:08.152Z"
   },
   {
    "duration": 109,
    "start_time": "2023-05-15T07:55:09.512Z"
   },
   {
    "duration": 54,
    "start_time": "2023-05-15T07:55:12.599Z"
   },
   {
    "duration": 25,
    "start_time": "2023-05-15T07:55:15.347Z"
   },
   {
    "duration": 8,
    "start_time": "2023-05-15T07:55:17.618Z"
   },
   {
    "duration": 22,
    "start_time": "2023-05-15T07:55:18.767Z"
   },
   {
    "duration": 15,
    "start_time": "2023-05-15T07:55:20.584Z"
   },
   {
    "duration": 10,
    "start_time": "2023-05-15T07:55:21.859Z"
   },
   {
    "duration": 16,
    "start_time": "2023-05-15T07:55:25.347Z"
   },
   {
    "duration": 19,
    "start_time": "2023-05-15T07:55:26.860Z"
   },
   {
    "duration": 22,
    "start_time": "2023-05-15T07:55:29.872Z"
   },
   {
    "duration": 25,
    "start_time": "2023-05-15T07:55:32.221Z"
   },
   {
    "duration": 16,
    "start_time": "2023-05-15T07:55:34.207Z"
   },
   {
    "duration": 35,
    "start_time": "2023-05-15T07:55:36.606Z"
   },
   {
    "duration": 2930,
    "start_time": "2023-05-15T07:55:43.466Z"
   },
   {
    "duration": 25,
    "start_time": "2023-05-15T07:55:55.102Z"
   },
   {
    "duration": 16,
    "start_time": "2023-05-15T07:55:57.266Z"
   },
   {
    "duration": 21,
    "start_time": "2023-05-15T07:55:59.745Z"
   },
   {
    "duration": 13,
    "start_time": "2023-05-15T07:57:29.793Z"
   },
   {
    "duration": 13,
    "start_time": "2023-05-15T08:03:47.242Z"
   },
   {
    "duration": 197,
    "start_time": "2023-05-15T08:04:12.043Z"
   },
   {
    "duration": 22,
    "start_time": "2023-05-15T08:05:17.221Z"
   },
   {
    "duration": 27,
    "start_time": "2023-05-15T08:05:23.168Z"
   },
   {
    "duration": 320,
    "start_time": "2023-05-15T08:05:30.543Z"
   },
   {
    "duration": 299,
    "start_time": "2023-05-15T08:06:44.609Z"
   },
   {
    "duration": 19,
    "start_time": "2023-05-15T08:08:26.601Z"
   },
   {
    "duration": 11,
    "start_time": "2023-05-15T08:08:47.343Z"
   },
   {
    "duration": 336,
    "start_time": "2023-05-15T08:09:50.221Z"
   },
   {
    "duration": 315,
    "start_time": "2023-05-15T08:10:02.152Z"
   },
   {
    "duration": 16,
    "start_time": "2023-05-15T08:26:22.995Z"
   },
   {
    "duration": 20,
    "start_time": "2023-05-15T08:27:25.434Z"
   },
   {
    "duration": 20,
    "start_time": "2023-05-15T08:27:55.914Z"
   },
   {
    "duration": 309,
    "start_time": "2023-05-15T08:29:41.382Z"
   },
   {
    "duration": 16,
    "start_time": "2023-05-15T08:31:22.194Z"
   },
   {
    "duration": 9,
    "start_time": "2023-05-15T08:31:52.650Z"
   },
   {
    "duration": 220,
    "start_time": "2023-05-15T08:33:56.802Z"
   },
   {
    "duration": 237,
    "start_time": "2023-05-15T08:34:32.233Z"
   },
   {
    "duration": 363,
    "start_time": "2023-05-15T08:35:27.277Z"
   },
   {
    "duration": 314,
    "start_time": "2023-05-15T08:35:39.211Z"
   },
   {
    "duration": 474,
    "start_time": "2023-05-15T08:36:07.231Z"
   },
   {
    "duration": 11,
    "start_time": "2023-05-15T08:36:41.547Z"
   },
   {
    "duration": 19,
    "start_time": "2023-05-15T08:37:08.293Z"
   },
   {
    "duration": 196,
    "start_time": "2023-05-15T08:37:14.382Z"
   },
   {
    "duration": 6,
    "start_time": "2023-05-15T08:37:59.549Z"
   },
   {
    "duration": 140,
    "start_time": "2023-05-15T08:43:16.324Z"
   },
   {
    "duration": 163,
    "start_time": "2023-05-15T08:43:29.711Z"
   },
   {
    "duration": 134,
    "start_time": "2023-05-15T08:43:52.744Z"
   },
   {
    "duration": 138,
    "start_time": "2023-05-15T08:47:15.082Z"
   },
   {
    "duration": 159,
    "start_time": "2023-05-15T08:47:28.205Z"
   },
   {
    "duration": 160,
    "start_time": "2023-05-15T08:49:19.147Z"
   },
   {
    "duration": 166,
    "start_time": "2023-05-15T08:49:30.920Z"
   },
   {
    "duration": 162,
    "start_time": "2023-05-15T08:49:50.113Z"
   },
   {
    "duration": 194,
    "start_time": "2023-05-15T08:49:58.074Z"
   },
   {
    "duration": 160,
    "start_time": "2023-05-15T08:50:12.944Z"
   },
   {
    "duration": 6,
    "start_time": "2023-05-15T08:52:47.039Z"
   },
   {
    "duration": 178,
    "start_time": "2023-05-15T09:01:30.820Z"
   },
   {
    "duration": 77,
    "start_time": "2023-05-15T09:01:34.801Z"
   },
   {
    "duration": 84,
    "start_time": "2023-05-15T09:01:43.020Z"
   },
   {
    "duration": 99,
    "start_time": "2023-05-15T09:01:45.921Z"
   },
   {
    "duration": 34,
    "start_time": "2023-05-15T09:01:49.603Z"
   },
   {
    "duration": 63,
    "start_time": "2023-05-15T09:02:00.934Z"
   },
   {
    "duration": 55,
    "start_time": "2023-05-15T09:02:04.503Z"
   },
   {
    "duration": 72,
    "start_time": "2023-05-15T09:02:07.572Z"
   },
   {
    "duration": 71,
    "start_time": "2023-05-15T09:02:10.390Z"
   },
   {
    "duration": 36,
    "start_time": "2023-05-15T09:02:13.157Z"
   },
   {
    "duration": 137,
    "start_time": "2023-05-15T09:03:31.051Z"
   },
   {
    "duration": 151,
    "start_time": "2023-05-15T09:03:32.972Z"
   },
   {
    "duration": 140,
    "start_time": "2023-05-15T09:03:37.905Z"
   },
   {
    "duration": 12,
    "start_time": "2023-05-15T09:05:12.616Z"
   },
   {
    "duration": 160,
    "start_time": "2023-05-15T09:05:17.246Z"
   },
   {
    "duration": 9,
    "start_time": "2023-05-15T09:05:19.781Z"
   },
   {
    "duration": 25,
    "start_time": "2023-05-15T09:05:22.034Z"
   },
   {
    "duration": 387,
    "start_time": "2023-05-15T09:06:46.712Z"
   },
   {
    "duration": 16,
    "start_time": "2023-05-15T09:07:59.840Z"
   },
   {
    "duration": 4,
    "start_time": "2023-05-15T09:12:56.448Z"
   },
   {
    "duration": 6,
    "start_time": "2023-05-15T09:13:07.995Z"
   },
   {
    "duration": 7,
    "start_time": "2023-05-15T09:13:24.805Z"
   },
   {
    "duration": 8,
    "start_time": "2023-05-15T09:14:04.010Z"
   },
   {
    "duration": 5,
    "start_time": "2023-05-15T09:14:33.892Z"
   },
   {
    "duration": 21,
    "start_time": "2023-05-15T09:14:53.792Z"
   },
   {
    "duration": 6,
    "start_time": "2023-05-15T09:15:07.212Z"
   },
   {
    "duration": 21,
    "start_time": "2023-05-15T09:15:24.781Z"
   },
   {
    "duration": 12,
    "start_time": "2023-05-15T09:15:50.611Z"
   },
   {
    "duration": 15,
    "start_time": "2023-05-15T09:15:55.580Z"
   },
   {
    "duration": 6,
    "start_time": "2023-05-15T09:15:58.288Z"
   },
   {
    "duration": 316,
    "start_time": "2023-05-15T09:20:43.879Z"
   },
   {
    "duration": 7,
    "start_time": "2023-05-15T09:21:04.849Z"
   },
   {
    "duration": 19,
    "start_time": "2023-05-15T09:21:46.045Z"
   },
   {
    "duration": 4,
    "start_time": "2023-05-15T09:23:31.768Z"
   },
   {
    "duration": 13,
    "start_time": "2023-05-15T09:23:41.539Z"
   },
   {
    "duration": 7,
    "start_time": "2023-05-15T09:25:48.028Z"
   },
   {
    "duration": 9,
    "start_time": "2023-05-15T09:42:42.951Z"
   },
   {
    "duration": 14,
    "start_time": "2023-05-15T09:43:48.706Z"
   },
   {
    "duration": 25,
    "start_time": "2023-05-15T09:44:35.524Z"
   },
   {
    "duration": 22,
    "start_time": "2023-05-15T09:45:27.525Z"
   },
   {
    "duration": 431,
    "start_time": "2023-05-15T09:57:38.738Z"
   }
  ],
  "kernelspec": {
   "display_name": "Python 3 (ipykernel)",
   "language": "python",
   "name": "python3"
  },
  "language_info": {
   "codemirror_mode": {
    "name": "ipython",
    "version": 3
   },
   "file_extension": ".py",
   "mimetype": "text/x-python",
   "name": "python",
   "nbconvert_exporter": "python",
   "pygments_lexer": "ipython3",
   "version": "3.9.13"
  },
  "toc": {
   "base_numbering": 1,
   "nav_menu": {
    "height": "281.997px",
    "width": "558.993px"
   },
   "number_sections": true,
   "sideBar": true,
   "skip_h1_title": true,
   "title_cell": "Table of content",
   "title_sidebar": "Contents",
   "toc_cell": true,
   "toc_position": {
    "height": "calc(100% - 180px)",
    "left": "10px",
    "top": "150px",
    "width": "321.424px"
   },
   "toc_section_display": true,
   "toc_window_display": true
  }
 },
 "nbformat": 4,
 "nbformat_minor": 2
}
